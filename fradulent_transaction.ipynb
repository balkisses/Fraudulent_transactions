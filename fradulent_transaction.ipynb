{
  "nbformat": 4,
  "nbformat_minor": 0,
  "metadata": {
    "colab": {
      "provenance": [],
      "gpuType": "T4"
    },
    "kernelspec": {
      "name": "python3",
      "display_name": "Python 3"
    },
    "language_info": {
      "name": "python"
    },
    "accelerator": "GPU"
  },
  "cells": [
    {
      "cell_type": "code",
      "execution_count": 86,
      "metadata": {
        "colab": {
          "base_uri": "https://localhost:8080/",
          "height": 92
        },
        "id": "61ELA0IKJjh1",
        "outputId": "3c400f91-f75e-4300-c484-77e366d878e8"
      },
      "outputs": [
        {
          "output_type": "display_data",
          "data": {
            "text/plain": [
              "<IPython.core.display.HTML object>"
            ],
            "text/html": [
              "\n",
              "     <input type=\"file\" id=\"files-98db3117-a2e6-4b54-a2c4-1a96833c8403\" name=\"files[]\" multiple disabled\n",
              "        style=\"border:none\" />\n",
              "     <output id=\"result-98db3117-a2e6-4b54-a2c4-1a96833c8403\">\n",
              "      Upload widget is only available when the cell has been executed in the\n",
              "      current browser session. Please rerun this cell to enable.\n",
              "      </output>\n",
              "      <script>// Copyright 2017 Google LLC\n",
              "//\n",
              "// Licensed under the Apache License, Version 2.0 (the \"License\");\n",
              "// you may not use this file except in compliance with the License.\n",
              "// You may obtain a copy of the License at\n",
              "//\n",
              "//      http://www.apache.org/licenses/LICENSE-2.0\n",
              "//\n",
              "// Unless required by applicable law or agreed to in writing, software\n",
              "// distributed under the License is distributed on an \"AS IS\" BASIS,\n",
              "// WITHOUT WARRANTIES OR CONDITIONS OF ANY KIND, either express or implied.\n",
              "// See the License for the specific language governing permissions and\n",
              "// limitations under the License.\n",
              "\n",
              "/**\n",
              " * @fileoverview Helpers for google.colab Python module.\n",
              " */\n",
              "(function(scope) {\n",
              "function span(text, styleAttributes = {}) {\n",
              "  const element = document.createElement('span');\n",
              "  element.textContent = text;\n",
              "  for (const key of Object.keys(styleAttributes)) {\n",
              "    element.style[key] = styleAttributes[key];\n",
              "  }\n",
              "  return element;\n",
              "}\n",
              "\n",
              "// Max number of bytes which will be uploaded at a time.\n",
              "const MAX_PAYLOAD_SIZE = 100 * 1024;\n",
              "\n",
              "function _uploadFiles(inputId, outputId) {\n",
              "  const steps = uploadFilesStep(inputId, outputId);\n",
              "  const outputElement = document.getElementById(outputId);\n",
              "  // Cache steps on the outputElement to make it available for the next call\n",
              "  // to uploadFilesContinue from Python.\n",
              "  outputElement.steps = steps;\n",
              "\n",
              "  return _uploadFilesContinue(outputId);\n",
              "}\n",
              "\n",
              "// This is roughly an async generator (not supported in the browser yet),\n",
              "// where there are multiple asynchronous steps and the Python side is going\n",
              "// to poll for completion of each step.\n",
              "// This uses a Promise to block the python side on completion of each step,\n",
              "// then passes the result of the previous step as the input to the next step.\n",
              "function _uploadFilesContinue(outputId) {\n",
              "  const outputElement = document.getElementById(outputId);\n",
              "  const steps = outputElement.steps;\n",
              "\n",
              "  const next = steps.next(outputElement.lastPromiseValue);\n",
              "  return Promise.resolve(next.value.promise).then((value) => {\n",
              "    // Cache the last promise value to make it available to the next\n",
              "    // step of the generator.\n",
              "    outputElement.lastPromiseValue = value;\n",
              "    return next.value.response;\n",
              "  });\n",
              "}\n",
              "\n",
              "/**\n",
              " * Generator function which is called between each async step of the upload\n",
              " * process.\n",
              " * @param {string} inputId Element ID of the input file picker element.\n",
              " * @param {string} outputId Element ID of the output display.\n",
              " * @return {!Iterable<!Object>} Iterable of next steps.\n",
              " */\n",
              "function* uploadFilesStep(inputId, outputId) {\n",
              "  const inputElement = document.getElementById(inputId);\n",
              "  inputElement.disabled = false;\n",
              "\n",
              "  const outputElement = document.getElementById(outputId);\n",
              "  outputElement.innerHTML = '';\n",
              "\n",
              "  const pickedPromise = new Promise((resolve) => {\n",
              "    inputElement.addEventListener('change', (e) => {\n",
              "      resolve(e.target.files);\n",
              "    });\n",
              "  });\n",
              "\n",
              "  const cancel = document.createElement('button');\n",
              "  inputElement.parentElement.appendChild(cancel);\n",
              "  cancel.textContent = 'Cancel upload';\n",
              "  const cancelPromise = new Promise((resolve) => {\n",
              "    cancel.onclick = () => {\n",
              "      resolve(null);\n",
              "    };\n",
              "  });\n",
              "\n",
              "  // Wait for the user to pick the files.\n",
              "  const files = yield {\n",
              "    promise: Promise.race([pickedPromise, cancelPromise]),\n",
              "    response: {\n",
              "      action: 'starting',\n",
              "    }\n",
              "  };\n",
              "\n",
              "  cancel.remove();\n",
              "\n",
              "  // Disable the input element since further picks are not allowed.\n",
              "  inputElement.disabled = true;\n",
              "\n",
              "  if (!files) {\n",
              "    return {\n",
              "      response: {\n",
              "        action: 'complete',\n",
              "      }\n",
              "    };\n",
              "  }\n",
              "\n",
              "  for (const file of files) {\n",
              "    const li = document.createElement('li');\n",
              "    li.append(span(file.name, {fontWeight: 'bold'}));\n",
              "    li.append(span(\n",
              "        `(${file.type || 'n/a'}) - ${file.size} bytes, ` +\n",
              "        `last modified: ${\n",
              "            file.lastModifiedDate ? file.lastModifiedDate.toLocaleDateString() :\n",
              "                                    'n/a'} - `));\n",
              "    const percent = span('0% done');\n",
              "    li.appendChild(percent);\n",
              "\n",
              "    outputElement.appendChild(li);\n",
              "\n",
              "    const fileDataPromise = new Promise((resolve) => {\n",
              "      const reader = new FileReader();\n",
              "      reader.onload = (e) => {\n",
              "        resolve(e.target.result);\n",
              "      };\n",
              "      reader.readAsArrayBuffer(file);\n",
              "    });\n",
              "    // Wait for the data to be ready.\n",
              "    let fileData = yield {\n",
              "      promise: fileDataPromise,\n",
              "      response: {\n",
              "        action: 'continue',\n",
              "      }\n",
              "    };\n",
              "\n",
              "    // Use a chunked sending to avoid message size limits. See b/62115660.\n",
              "    let position = 0;\n",
              "    do {\n",
              "      const length = Math.min(fileData.byteLength - position, MAX_PAYLOAD_SIZE);\n",
              "      const chunk = new Uint8Array(fileData, position, length);\n",
              "      position += length;\n",
              "\n",
              "      const base64 = btoa(String.fromCharCode.apply(null, chunk));\n",
              "      yield {\n",
              "        response: {\n",
              "          action: 'append',\n",
              "          file: file.name,\n",
              "          data: base64,\n",
              "        },\n",
              "      };\n",
              "\n",
              "      let percentDone = fileData.byteLength === 0 ?\n",
              "          100 :\n",
              "          Math.round((position / fileData.byteLength) * 100);\n",
              "      percent.textContent = `${percentDone}% done`;\n",
              "\n",
              "    } while (position < fileData.byteLength);\n",
              "  }\n",
              "\n",
              "  // All done.\n",
              "  yield {\n",
              "    response: {\n",
              "      action: 'complete',\n",
              "    }\n",
              "  };\n",
              "}\n",
              "\n",
              "scope.google = scope.google || {};\n",
              "scope.google.colab = scope.google.colab || {};\n",
              "scope.google.colab._files = {\n",
              "  _uploadFiles,\n",
              "  _uploadFilesContinue,\n",
              "};\n",
              "})(self);\n",
              "</script> "
            ]
          },
          "metadata": {}
        },
        {
          "output_type": "stream",
          "name": "stdout",
          "text": [
            "Saving kaggle.json to kaggle.json\n"
          ]
        },
        {
          "output_type": "execute_result",
          "data": {
            "text/plain": [
              "{'kaggle.json': b'{\"username\":\"balkissabri\",\"key\":\"213dbffb5ab8f465dc2e7f9f1ab7f700\"}'}"
            ]
          },
          "metadata": {},
          "execution_count": 86
        }
      ],
      "source": [
        "from google.colab import files\n",
        "files.upload()"
      ]
    },
    {
      "cell_type": "code",
      "execution_count": 87,
      "metadata": {
        "id": "KRSmxQRSJmwk"
      },
      "outputs": [],
      "source": [
        "!mkdir -p ~/.kaggle\n",
        "!mv kaggle.json ~/.kaggle/\n",
        "!chmod 600 ~/.kaggle/kaggle.json"
      ]
    },
    {
      "cell_type": "code",
      "execution_count": 88,
      "metadata": {
        "colab": {
          "base_uri": "https://localhost:8080/"
        },
        "id": "oCZmI-woJp2P",
        "outputId": "5fc6ad80-68d8-407d-c88f-7466eaf273e6"
      },
      "outputs": [
        {
          "output_type": "stream",
          "name": "stdout",
          "text": [
            "Requirement already satisfied: kaggle in /usr/local/lib/python3.11/dist-packages (1.6.17)\n",
            "Requirement already satisfied: six>=1.10 in /usr/local/lib/python3.11/dist-packages (from kaggle) (1.17.0)\n",
            "Requirement already satisfied: certifi>=2023.7.22 in /usr/local/lib/python3.11/dist-packages (from kaggle) (2025.1.31)\n",
            "Requirement already satisfied: python-dateutil in /usr/local/lib/python3.11/dist-packages (from kaggle) (2.8.2)\n",
            "Requirement already satisfied: requests in /usr/local/lib/python3.11/dist-packages (from kaggle) (2.32.3)\n",
            "Requirement already satisfied: tqdm in /usr/local/lib/python3.11/dist-packages (from kaggle) (4.67.1)\n",
            "Requirement already satisfied: python-slugify in /usr/local/lib/python3.11/dist-packages (from kaggle) (8.0.4)\n",
            "Requirement already satisfied: urllib3 in /usr/local/lib/python3.11/dist-packages (from kaggle) (2.3.0)\n",
            "Requirement already satisfied: bleach in /usr/local/lib/python3.11/dist-packages (from kaggle) (6.2.0)\n",
            "Requirement already satisfied: webencodings in /usr/local/lib/python3.11/dist-packages (from bleach->kaggle) (0.5.1)\n",
            "Requirement already satisfied: text-unidecode>=1.3 in /usr/local/lib/python3.11/dist-packages (from python-slugify->kaggle) (1.3)\n",
            "Requirement already satisfied: charset-normalizer<4,>=2 in /usr/local/lib/python3.11/dist-packages (from requests->kaggle) (3.4.1)\n",
            "Requirement already satisfied: idna<4,>=2.5 in /usr/local/lib/python3.11/dist-packages (from requests->kaggle) (3.10)\n"
          ]
        }
      ],
      "source": [
        "!pip install kaggle"
      ]
    },
    {
      "cell_type": "code",
      "execution_count": 89,
      "metadata": {
        "colab": {
          "base_uri": "https://localhost:8080/"
        },
        "id": "VOfO_nCGJuCL",
        "outputId": "b85aa84b-d6e7-49b7-9fe9-c12342f22c57"
      },
      "outputs": [
        {
          "output_type": "stream",
          "name": "stdout",
          "text": [
            "Dataset URL: https://www.kaggle.com/datasets/computingvictor/transactions-fraud-datasets\n",
            "License(s): apache-2.0\n",
            "transactions-fraud-datasets.zip: Skipping, found more recently modified local copy (use --force to force download)\n"
          ]
        }
      ],
      "source": [
        "!kaggle datasets download -d computingvictor/transactions-fraud-datasets"
      ]
    },
    {
      "cell_type": "code",
      "execution_count": 90,
      "metadata": {
        "colab": {
          "base_uri": "https://localhost:8080/"
        },
        "id": "KbUMoCRRJxD6",
        "outputId": "4db4b825-a467-42ff-b2a7-76d183522364"
      },
      "outputs": [
        {
          "output_type": "stream",
          "name": "stdout",
          "text": [
            "Archive:  transactions-fraud-datasets.zip\n",
            "replace cards_data.csv? [y]es, [n]o, [A]ll, [N]one, [r]ename: y\n",
            "  inflating: cards_data.csv          \n",
            "replace mcc_codes.json? [y]es, [n]o, [A]ll, [N]one, [r]ename: y\n",
            "  inflating: mcc_codes.json          \n",
            "replace train_fraud_labels.json? [y]es, [n]o, [A]ll, [N]one, [r]ename: y\n",
            "  inflating: train_fraud_labels.json  y\n",
            "\n",
            "replace transactions_data.csv? [y]es, [n]o, [A]ll, [N]one, [r]ename:   inflating: transactions_data.csv   y\n",
            "y\n",
            "\n",
            "replace users_data.csv? [y]es, [n]o, [A]ll, [N]one, [r]ename:   inflating: users_data.csv          \n"
          ]
        }
      ],
      "source": [
        "!unzip transactions-fraud-datasets.zip"
      ]
    },
    {
      "cell_type": "code",
      "execution_count": 91,
      "metadata": {
        "id": "DCzYrHVJqekx"
      },
      "outputs": [],
      "source": [
        "import numpy as np\n",
        "import pandas as pd\n",
        "import json\n",
        "\n",
        "# Data Visualization libraries\n",
        "import altair as alt\n",
        "import matplotlib.pyplot as plt\n",
        "import seaborn as sns\n",
        "\n",
        "#Imporing libraries to avoid warnings\n",
        "import warnings"
      ]
    },
    {
      "cell_type": "markdown",
      "source": [
        "read datasets"
      ],
      "metadata": {
        "id": "Dty4oRbrZp5t"
      }
    },
    {
      "cell_type": "code",
      "execution_count": 92,
      "metadata": {
        "id": "s_Bv1IgFJ0eU"
      },
      "outputs": [],
      "source": [
        "\n",
        "\n",
        "transactions = pd.read_csv('transactions_data.csv')\n",
        "cards=pd.read_csv('cards_data.csv')\n",
        "users=pd.read_csv('users_data.csv')"
      ]
    },
    {
      "cell_type": "code",
      "execution_count": 93,
      "metadata": {
        "id": "XH1m7RgsJdvI"
      },
      "outputs": [],
      "source": [
        "train_fraud_labels=pd.read_json('train_fraud_labels.json')"
      ]
    },
    {
      "cell_type": "markdown",
      "source": [
        "# read fraud dataset"
      ],
      "metadata": {
        "id": "TxeYxvB0FGqs"
      }
    },
    {
      "cell_type": "code",
      "execution_count": 94,
      "metadata": {
        "colab": {
          "base_uri": "https://localhost:8080/",
          "height": 206
        },
        "id": "xvnvv2jtJ8jn",
        "outputId": "11da59f8-1dc9-4512-8b60-5fd843c1db48"
      },
      "outputs": [
        {
          "output_type": "execute_result",
          "data": {
            "text/plain": [
              "         target\n",
              "10649266     No\n",
              "23410063     No\n",
              "9316588      No\n",
              "12478022     No\n",
              "9558530      No"
            ],
            "text/html": [
              "\n",
              "  <div id=\"df-c16252ab-2b00-46fc-8ef4-8b4ce31ee75b\" class=\"colab-df-container\">\n",
              "    <div>\n",
              "<style scoped>\n",
              "    .dataframe tbody tr th:only-of-type {\n",
              "        vertical-align: middle;\n",
              "    }\n",
              "\n",
              "    .dataframe tbody tr th {\n",
              "        vertical-align: top;\n",
              "    }\n",
              "\n",
              "    .dataframe thead th {\n",
              "        text-align: right;\n",
              "    }\n",
              "</style>\n",
              "<table border=\"1\" class=\"dataframe\">\n",
              "  <thead>\n",
              "    <tr style=\"text-align: right;\">\n",
              "      <th></th>\n",
              "      <th>target</th>\n",
              "    </tr>\n",
              "  </thead>\n",
              "  <tbody>\n",
              "    <tr>\n",
              "      <th>10649266</th>\n",
              "      <td>No</td>\n",
              "    </tr>\n",
              "    <tr>\n",
              "      <th>23410063</th>\n",
              "      <td>No</td>\n",
              "    </tr>\n",
              "    <tr>\n",
              "      <th>9316588</th>\n",
              "      <td>No</td>\n",
              "    </tr>\n",
              "    <tr>\n",
              "      <th>12478022</th>\n",
              "      <td>No</td>\n",
              "    </tr>\n",
              "    <tr>\n",
              "      <th>9558530</th>\n",
              "      <td>No</td>\n",
              "    </tr>\n",
              "  </tbody>\n",
              "</table>\n",
              "</div>\n",
              "    <div class=\"colab-df-buttons\">\n",
              "\n",
              "  <div class=\"colab-df-container\">\n",
              "    <button class=\"colab-df-convert\" onclick=\"convertToInteractive('df-c16252ab-2b00-46fc-8ef4-8b4ce31ee75b')\"\n",
              "            title=\"Convert this dataframe to an interactive table.\"\n",
              "            style=\"display:none;\">\n",
              "\n",
              "  <svg xmlns=\"http://www.w3.org/2000/svg\" height=\"24px\" viewBox=\"0 -960 960 960\">\n",
              "    <path d=\"M120-120v-720h720v720H120Zm60-500h600v-160H180v160Zm220 220h160v-160H400v160Zm0 220h160v-160H400v160ZM180-400h160v-160H180v160Zm440 0h160v-160H620v160ZM180-180h160v-160H180v160Zm440 0h160v-160H620v160Z\"/>\n",
              "  </svg>\n",
              "    </button>\n",
              "\n",
              "  <style>\n",
              "    .colab-df-container {\n",
              "      display:flex;\n",
              "      gap: 12px;\n",
              "    }\n",
              "\n",
              "    .colab-df-convert {\n",
              "      background-color: #E8F0FE;\n",
              "      border: none;\n",
              "      border-radius: 50%;\n",
              "      cursor: pointer;\n",
              "      display: none;\n",
              "      fill: #1967D2;\n",
              "      height: 32px;\n",
              "      padding: 0 0 0 0;\n",
              "      width: 32px;\n",
              "    }\n",
              "\n",
              "    .colab-df-convert:hover {\n",
              "      background-color: #E2EBFA;\n",
              "      box-shadow: 0px 1px 2px rgba(60, 64, 67, 0.3), 0px 1px 3px 1px rgba(60, 64, 67, 0.15);\n",
              "      fill: #174EA6;\n",
              "    }\n",
              "\n",
              "    .colab-df-buttons div {\n",
              "      margin-bottom: 4px;\n",
              "    }\n",
              "\n",
              "    [theme=dark] .colab-df-convert {\n",
              "      background-color: #3B4455;\n",
              "      fill: #D2E3FC;\n",
              "    }\n",
              "\n",
              "    [theme=dark] .colab-df-convert:hover {\n",
              "      background-color: #434B5C;\n",
              "      box-shadow: 0px 1px 3px 1px rgba(0, 0, 0, 0.15);\n",
              "      filter: drop-shadow(0px 1px 2px rgba(0, 0, 0, 0.3));\n",
              "      fill: #FFFFFF;\n",
              "    }\n",
              "  </style>\n",
              "\n",
              "    <script>\n",
              "      const buttonEl =\n",
              "        document.querySelector('#df-c16252ab-2b00-46fc-8ef4-8b4ce31ee75b button.colab-df-convert');\n",
              "      buttonEl.style.display =\n",
              "        google.colab.kernel.accessAllowed ? 'block' : 'none';\n",
              "\n",
              "      async function convertToInteractive(key) {\n",
              "        const element = document.querySelector('#df-c16252ab-2b00-46fc-8ef4-8b4ce31ee75b');\n",
              "        const dataTable =\n",
              "          await google.colab.kernel.invokeFunction('convertToInteractive',\n",
              "                                                    [key], {});\n",
              "        if (!dataTable) return;\n",
              "\n",
              "        const docLinkHtml = 'Like what you see? Visit the ' +\n",
              "          '<a target=\"_blank\" href=https://colab.research.google.com/notebooks/data_table.ipynb>data table notebook</a>'\n",
              "          + ' to learn more about interactive tables.';\n",
              "        element.innerHTML = '';\n",
              "        dataTable['output_type'] = 'display_data';\n",
              "        await google.colab.output.renderOutput(dataTable, element);\n",
              "        const docLink = document.createElement('div');\n",
              "        docLink.innerHTML = docLinkHtml;\n",
              "        element.appendChild(docLink);\n",
              "      }\n",
              "    </script>\n",
              "  </div>\n",
              "\n",
              "\n",
              "<div id=\"df-9c77902b-e11a-487e-8cdb-c89d81345729\">\n",
              "  <button class=\"colab-df-quickchart\" onclick=\"quickchart('df-9c77902b-e11a-487e-8cdb-c89d81345729')\"\n",
              "            title=\"Suggest charts\"\n",
              "            style=\"display:none;\">\n",
              "\n",
              "<svg xmlns=\"http://www.w3.org/2000/svg\" height=\"24px\"viewBox=\"0 0 24 24\"\n",
              "     width=\"24px\">\n",
              "    <g>\n",
              "        <path d=\"M19 3H5c-1.1 0-2 .9-2 2v14c0 1.1.9 2 2 2h14c1.1 0 2-.9 2-2V5c0-1.1-.9-2-2-2zM9 17H7v-7h2v7zm4 0h-2V7h2v10zm4 0h-2v-4h2v4z\"/>\n",
              "    </g>\n",
              "</svg>\n",
              "  </button>\n",
              "\n",
              "<style>\n",
              "  .colab-df-quickchart {\n",
              "      --bg-color: #E8F0FE;\n",
              "      --fill-color: #1967D2;\n",
              "      --hover-bg-color: #E2EBFA;\n",
              "      --hover-fill-color: #174EA6;\n",
              "      --disabled-fill-color: #AAA;\n",
              "      --disabled-bg-color: #DDD;\n",
              "  }\n",
              "\n",
              "  [theme=dark] .colab-df-quickchart {\n",
              "      --bg-color: #3B4455;\n",
              "      --fill-color: #D2E3FC;\n",
              "      --hover-bg-color: #434B5C;\n",
              "      --hover-fill-color: #FFFFFF;\n",
              "      --disabled-bg-color: #3B4455;\n",
              "      --disabled-fill-color: #666;\n",
              "  }\n",
              "\n",
              "  .colab-df-quickchart {\n",
              "    background-color: var(--bg-color);\n",
              "    border: none;\n",
              "    border-radius: 50%;\n",
              "    cursor: pointer;\n",
              "    display: none;\n",
              "    fill: var(--fill-color);\n",
              "    height: 32px;\n",
              "    padding: 0;\n",
              "    width: 32px;\n",
              "  }\n",
              "\n",
              "  .colab-df-quickchart:hover {\n",
              "    background-color: var(--hover-bg-color);\n",
              "    box-shadow: 0 1px 2px rgba(60, 64, 67, 0.3), 0 1px 3px 1px rgba(60, 64, 67, 0.15);\n",
              "    fill: var(--button-hover-fill-color);\n",
              "  }\n",
              "\n",
              "  .colab-df-quickchart-complete:disabled,\n",
              "  .colab-df-quickchart-complete:disabled:hover {\n",
              "    background-color: var(--disabled-bg-color);\n",
              "    fill: var(--disabled-fill-color);\n",
              "    box-shadow: none;\n",
              "  }\n",
              "\n",
              "  .colab-df-spinner {\n",
              "    border: 2px solid var(--fill-color);\n",
              "    border-color: transparent;\n",
              "    border-bottom-color: var(--fill-color);\n",
              "    animation:\n",
              "      spin 1s steps(1) infinite;\n",
              "  }\n",
              "\n",
              "  @keyframes spin {\n",
              "    0% {\n",
              "      border-color: transparent;\n",
              "      border-bottom-color: var(--fill-color);\n",
              "      border-left-color: var(--fill-color);\n",
              "    }\n",
              "    20% {\n",
              "      border-color: transparent;\n",
              "      border-left-color: var(--fill-color);\n",
              "      border-top-color: var(--fill-color);\n",
              "    }\n",
              "    30% {\n",
              "      border-color: transparent;\n",
              "      border-left-color: var(--fill-color);\n",
              "      border-top-color: var(--fill-color);\n",
              "      border-right-color: var(--fill-color);\n",
              "    }\n",
              "    40% {\n",
              "      border-color: transparent;\n",
              "      border-right-color: var(--fill-color);\n",
              "      border-top-color: var(--fill-color);\n",
              "    }\n",
              "    60% {\n",
              "      border-color: transparent;\n",
              "      border-right-color: var(--fill-color);\n",
              "    }\n",
              "    80% {\n",
              "      border-color: transparent;\n",
              "      border-right-color: var(--fill-color);\n",
              "      border-bottom-color: var(--fill-color);\n",
              "    }\n",
              "    90% {\n",
              "      border-color: transparent;\n",
              "      border-bottom-color: var(--fill-color);\n",
              "    }\n",
              "  }\n",
              "</style>\n",
              "\n",
              "  <script>\n",
              "    async function quickchart(key) {\n",
              "      const quickchartButtonEl =\n",
              "        document.querySelector('#' + key + ' button');\n",
              "      quickchartButtonEl.disabled = true;  // To prevent multiple clicks.\n",
              "      quickchartButtonEl.classList.add('colab-df-spinner');\n",
              "      try {\n",
              "        const charts = await google.colab.kernel.invokeFunction(\n",
              "            'suggestCharts', [key], {});\n",
              "      } catch (error) {\n",
              "        console.error('Error during call to suggestCharts:', error);\n",
              "      }\n",
              "      quickchartButtonEl.classList.remove('colab-df-spinner');\n",
              "      quickchartButtonEl.classList.add('colab-df-quickchart-complete');\n",
              "    }\n",
              "    (() => {\n",
              "      let quickchartButtonEl =\n",
              "        document.querySelector('#df-9c77902b-e11a-487e-8cdb-c89d81345729 button');\n",
              "      quickchartButtonEl.style.display =\n",
              "        google.colab.kernel.accessAllowed ? 'block' : 'none';\n",
              "    })();\n",
              "  </script>\n",
              "</div>\n",
              "\n",
              "    </div>\n",
              "  </div>\n"
            ],
            "application/vnd.google.colaboratory.intrinsic+json": {
              "type": "dataframe",
              "variable_name": "train_fraud_labels"
            }
          },
          "metadata": {},
          "execution_count": 94
        }
      ],
      "source": [
        "train_fraud_labels.head()"
      ]
    },
    {
      "cell_type": "code",
      "execution_count": 95,
      "metadata": {
        "id": "5PPyn0e0O3gX"
      },
      "outputs": [],
      "source": [
        "data = {\n",
        "    'id': train_fraud_labels.index,\n",
        "    'Status': train_fraud_labels.iloc[:, 0]\n",
        "}"
      ]
    },
    {
      "cell_type": "code",
      "execution_count": 96,
      "metadata": {
        "id": "rKSJsRXMPExQ"
      },
      "outputs": [],
      "source": [
        "df=pd.DataFrame(data)\n",
        "train_fraud_labels=df.reset_index(drop=True)"
      ]
    },
    {
      "cell_type": "code",
      "execution_count": 97,
      "metadata": {
        "colab": {
          "base_uri": "https://localhost:8080/",
          "height": 206
        },
        "id": "_tE6OnJTPbnK",
        "outputId": "bd377af6-5e40-4d07-cd84-bf1dcc26841e"
      },
      "outputs": [
        {
          "output_type": "execute_result",
          "data": {
            "text/plain": [
              "         id Status\n",
              "0  10649266     No\n",
              "1  23410063     No\n",
              "2   9316588     No\n",
              "3  12478022     No\n",
              "4   9558530     No"
            ],
            "text/html": [
              "\n",
              "  <div id=\"df-5cd4df63-7ece-47eb-a19d-d585b097a2f8\" class=\"colab-df-container\">\n",
              "    <div>\n",
              "<style scoped>\n",
              "    .dataframe tbody tr th:only-of-type {\n",
              "        vertical-align: middle;\n",
              "    }\n",
              "\n",
              "    .dataframe tbody tr th {\n",
              "        vertical-align: top;\n",
              "    }\n",
              "\n",
              "    .dataframe thead th {\n",
              "        text-align: right;\n",
              "    }\n",
              "</style>\n",
              "<table border=\"1\" class=\"dataframe\">\n",
              "  <thead>\n",
              "    <tr style=\"text-align: right;\">\n",
              "      <th></th>\n",
              "      <th>id</th>\n",
              "      <th>Status</th>\n",
              "    </tr>\n",
              "  </thead>\n",
              "  <tbody>\n",
              "    <tr>\n",
              "      <th>0</th>\n",
              "      <td>10649266</td>\n",
              "      <td>No</td>\n",
              "    </tr>\n",
              "    <tr>\n",
              "      <th>1</th>\n",
              "      <td>23410063</td>\n",
              "      <td>No</td>\n",
              "    </tr>\n",
              "    <tr>\n",
              "      <th>2</th>\n",
              "      <td>9316588</td>\n",
              "      <td>No</td>\n",
              "    </tr>\n",
              "    <tr>\n",
              "      <th>3</th>\n",
              "      <td>12478022</td>\n",
              "      <td>No</td>\n",
              "    </tr>\n",
              "    <tr>\n",
              "      <th>4</th>\n",
              "      <td>9558530</td>\n",
              "      <td>No</td>\n",
              "    </tr>\n",
              "  </tbody>\n",
              "</table>\n",
              "</div>\n",
              "    <div class=\"colab-df-buttons\">\n",
              "\n",
              "  <div class=\"colab-df-container\">\n",
              "    <button class=\"colab-df-convert\" onclick=\"convertToInteractive('df-5cd4df63-7ece-47eb-a19d-d585b097a2f8')\"\n",
              "            title=\"Convert this dataframe to an interactive table.\"\n",
              "            style=\"display:none;\">\n",
              "\n",
              "  <svg xmlns=\"http://www.w3.org/2000/svg\" height=\"24px\" viewBox=\"0 -960 960 960\">\n",
              "    <path d=\"M120-120v-720h720v720H120Zm60-500h600v-160H180v160Zm220 220h160v-160H400v160Zm0 220h160v-160H400v160ZM180-400h160v-160H180v160Zm440 0h160v-160H620v160ZM180-180h160v-160H180v160Zm440 0h160v-160H620v160Z\"/>\n",
              "  </svg>\n",
              "    </button>\n",
              "\n",
              "  <style>\n",
              "    .colab-df-container {\n",
              "      display:flex;\n",
              "      gap: 12px;\n",
              "    }\n",
              "\n",
              "    .colab-df-convert {\n",
              "      background-color: #E8F0FE;\n",
              "      border: none;\n",
              "      border-radius: 50%;\n",
              "      cursor: pointer;\n",
              "      display: none;\n",
              "      fill: #1967D2;\n",
              "      height: 32px;\n",
              "      padding: 0 0 0 0;\n",
              "      width: 32px;\n",
              "    }\n",
              "\n",
              "    .colab-df-convert:hover {\n",
              "      background-color: #E2EBFA;\n",
              "      box-shadow: 0px 1px 2px rgba(60, 64, 67, 0.3), 0px 1px 3px 1px rgba(60, 64, 67, 0.15);\n",
              "      fill: #174EA6;\n",
              "    }\n",
              "\n",
              "    .colab-df-buttons div {\n",
              "      margin-bottom: 4px;\n",
              "    }\n",
              "\n",
              "    [theme=dark] .colab-df-convert {\n",
              "      background-color: #3B4455;\n",
              "      fill: #D2E3FC;\n",
              "    }\n",
              "\n",
              "    [theme=dark] .colab-df-convert:hover {\n",
              "      background-color: #434B5C;\n",
              "      box-shadow: 0px 1px 3px 1px rgba(0, 0, 0, 0.15);\n",
              "      filter: drop-shadow(0px 1px 2px rgba(0, 0, 0, 0.3));\n",
              "      fill: #FFFFFF;\n",
              "    }\n",
              "  </style>\n",
              "\n",
              "    <script>\n",
              "      const buttonEl =\n",
              "        document.querySelector('#df-5cd4df63-7ece-47eb-a19d-d585b097a2f8 button.colab-df-convert');\n",
              "      buttonEl.style.display =\n",
              "        google.colab.kernel.accessAllowed ? 'block' : 'none';\n",
              "\n",
              "      async function convertToInteractive(key) {\n",
              "        const element = document.querySelector('#df-5cd4df63-7ece-47eb-a19d-d585b097a2f8');\n",
              "        const dataTable =\n",
              "          await google.colab.kernel.invokeFunction('convertToInteractive',\n",
              "                                                    [key], {});\n",
              "        if (!dataTable) return;\n",
              "\n",
              "        const docLinkHtml = 'Like what you see? Visit the ' +\n",
              "          '<a target=\"_blank\" href=https://colab.research.google.com/notebooks/data_table.ipynb>data table notebook</a>'\n",
              "          + ' to learn more about interactive tables.';\n",
              "        element.innerHTML = '';\n",
              "        dataTable['output_type'] = 'display_data';\n",
              "        await google.colab.output.renderOutput(dataTable, element);\n",
              "        const docLink = document.createElement('div');\n",
              "        docLink.innerHTML = docLinkHtml;\n",
              "        element.appendChild(docLink);\n",
              "      }\n",
              "    </script>\n",
              "  </div>\n",
              "\n",
              "\n",
              "<div id=\"df-f1d61fd5-970b-4463-a338-a3d3502d3b8f\">\n",
              "  <button class=\"colab-df-quickchart\" onclick=\"quickchart('df-f1d61fd5-970b-4463-a338-a3d3502d3b8f')\"\n",
              "            title=\"Suggest charts\"\n",
              "            style=\"display:none;\">\n",
              "\n",
              "<svg xmlns=\"http://www.w3.org/2000/svg\" height=\"24px\"viewBox=\"0 0 24 24\"\n",
              "     width=\"24px\">\n",
              "    <g>\n",
              "        <path d=\"M19 3H5c-1.1 0-2 .9-2 2v14c0 1.1.9 2 2 2h14c1.1 0 2-.9 2-2V5c0-1.1-.9-2-2-2zM9 17H7v-7h2v7zm4 0h-2V7h2v10zm4 0h-2v-4h2v4z\"/>\n",
              "    </g>\n",
              "</svg>\n",
              "  </button>\n",
              "\n",
              "<style>\n",
              "  .colab-df-quickchart {\n",
              "      --bg-color: #E8F0FE;\n",
              "      --fill-color: #1967D2;\n",
              "      --hover-bg-color: #E2EBFA;\n",
              "      --hover-fill-color: #174EA6;\n",
              "      --disabled-fill-color: #AAA;\n",
              "      --disabled-bg-color: #DDD;\n",
              "  }\n",
              "\n",
              "  [theme=dark] .colab-df-quickchart {\n",
              "      --bg-color: #3B4455;\n",
              "      --fill-color: #D2E3FC;\n",
              "      --hover-bg-color: #434B5C;\n",
              "      --hover-fill-color: #FFFFFF;\n",
              "      --disabled-bg-color: #3B4455;\n",
              "      --disabled-fill-color: #666;\n",
              "  }\n",
              "\n",
              "  .colab-df-quickchart {\n",
              "    background-color: var(--bg-color);\n",
              "    border: none;\n",
              "    border-radius: 50%;\n",
              "    cursor: pointer;\n",
              "    display: none;\n",
              "    fill: var(--fill-color);\n",
              "    height: 32px;\n",
              "    padding: 0;\n",
              "    width: 32px;\n",
              "  }\n",
              "\n",
              "  .colab-df-quickchart:hover {\n",
              "    background-color: var(--hover-bg-color);\n",
              "    box-shadow: 0 1px 2px rgba(60, 64, 67, 0.3), 0 1px 3px 1px rgba(60, 64, 67, 0.15);\n",
              "    fill: var(--button-hover-fill-color);\n",
              "  }\n",
              "\n",
              "  .colab-df-quickchart-complete:disabled,\n",
              "  .colab-df-quickchart-complete:disabled:hover {\n",
              "    background-color: var(--disabled-bg-color);\n",
              "    fill: var(--disabled-fill-color);\n",
              "    box-shadow: none;\n",
              "  }\n",
              "\n",
              "  .colab-df-spinner {\n",
              "    border: 2px solid var(--fill-color);\n",
              "    border-color: transparent;\n",
              "    border-bottom-color: var(--fill-color);\n",
              "    animation:\n",
              "      spin 1s steps(1) infinite;\n",
              "  }\n",
              "\n",
              "  @keyframes spin {\n",
              "    0% {\n",
              "      border-color: transparent;\n",
              "      border-bottom-color: var(--fill-color);\n",
              "      border-left-color: var(--fill-color);\n",
              "    }\n",
              "    20% {\n",
              "      border-color: transparent;\n",
              "      border-left-color: var(--fill-color);\n",
              "      border-top-color: var(--fill-color);\n",
              "    }\n",
              "    30% {\n",
              "      border-color: transparent;\n",
              "      border-left-color: var(--fill-color);\n",
              "      border-top-color: var(--fill-color);\n",
              "      border-right-color: var(--fill-color);\n",
              "    }\n",
              "    40% {\n",
              "      border-color: transparent;\n",
              "      border-right-color: var(--fill-color);\n",
              "      border-top-color: var(--fill-color);\n",
              "    }\n",
              "    60% {\n",
              "      border-color: transparent;\n",
              "      border-right-color: var(--fill-color);\n",
              "    }\n",
              "    80% {\n",
              "      border-color: transparent;\n",
              "      border-right-color: var(--fill-color);\n",
              "      border-bottom-color: var(--fill-color);\n",
              "    }\n",
              "    90% {\n",
              "      border-color: transparent;\n",
              "      border-bottom-color: var(--fill-color);\n",
              "    }\n",
              "  }\n",
              "</style>\n",
              "\n",
              "  <script>\n",
              "    async function quickchart(key) {\n",
              "      const quickchartButtonEl =\n",
              "        document.querySelector('#' + key + ' button');\n",
              "      quickchartButtonEl.disabled = true;  // To prevent multiple clicks.\n",
              "      quickchartButtonEl.classList.add('colab-df-spinner');\n",
              "      try {\n",
              "        const charts = await google.colab.kernel.invokeFunction(\n",
              "            'suggestCharts', [key], {});\n",
              "      } catch (error) {\n",
              "        console.error('Error during call to suggestCharts:', error);\n",
              "      }\n",
              "      quickchartButtonEl.classList.remove('colab-df-spinner');\n",
              "      quickchartButtonEl.classList.add('colab-df-quickchart-complete');\n",
              "    }\n",
              "    (() => {\n",
              "      let quickchartButtonEl =\n",
              "        document.querySelector('#df-f1d61fd5-970b-4463-a338-a3d3502d3b8f button');\n",
              "      quickchartButtonEl.style.display =\n",
              "        google.colab.kernel.accessAllowed ? 'block' : 'none';\n",
              "    })();\n",
              "  </script>\n",
              "</div>\n",
              "\n",
              "    </div>\n",
              "  </div>\n"
            ],
            "application/vnd.google.colaboratory.intrinsic+json": {
              "type": "dataframe",
              "variable_name": "train_fraud_labels"
            }
          },
          "metadata": {},
          "execution_count": 97
        }
      ],
      "source": [
        "train_fraud_labels.head()"
      ]
    },
    {
      "cell_type": "markdown",
      "source": [
        "# read mcc dataset"
      ],
      "metadata": {
        "id": "zwpkI0lvFLgK"
      }
    },
    {
      "cell_type": "code",
      "execution_count": 98,
      "metadata": {
        "colab": {
          "base_uri": "https://localhost:8080/"
        },
        "id": "16vTfc9iKwXj",
        "outputId": "7482b352-46cd-4130-c2ed-2194d7a13a10"
      },
      "outputs": [
        {
          "output_type": "stream",
          "name": "stdout",
          "text": [
            "                            5812              5541  \\\n",
            "0  Eating Places and Restaurants  Service Stations   \n",
            "\n",
            "                                   7996                          5411  \\\n",
            "0  Amusement Parks, Carnivals, Circuses  Grocery Stores, Supermarkets   \n",
            "\n",
            "                    4784                                        4900  \\\n",
            "0  Tolls and Bridge Fees  Utilities - Electric, Gas, Water, Sanitary   \n",
            "\n",
            "          5942                   5814            4829               5311  ...  \\\n",
            "0  Book Stores  Fast Food Restaurants  Money Transfer  Department Stores  ...   \n",
            "\n",
            "                              3005          4411        3000  \\\n",
            "0  Miscellaneous Metal Fabrication  Cruise Lines  Steelworks   \n",
            "\n",
            "                                      5533                     3008  \\\n",
            "0  Automotive Parts and Accessories Stores  Steel Drums and Barrels   \n",
            "\n",
            "              7549                   5941                        5722  \\\n",
            "0  Towing Services  Sporting Goods Stores  Household Appliance Stores   \n",
            "\n",
            "                                   3009                                5733  \n",
            "0  Fabricated Structural Metal Products  Music Stores - Musical Instruments  \n",
            "\n",
            "[1 rows x 109 columns]\n"
          ]
        }
      ],
      "source": [
        "\n",
        "\n",
        "try:\n",
        "    mcc_codes = pd.read_json('mcc_codes.json', lines=True)\n",
        "except ValueError:\n",
        "    # If lines=True fails, try reading without it\n",
        "    with open('mcc_codes.json', 'r') as f:\n",
        "        data = json.load(f)  # Load as a Python object\n",
        "\n",
        "    # If the JSON is a list of dictionaries:\n",
        "    if isinstance(data, list) and all(isinstance(item, dict) for item in data):\n",
        "        mcc_codes = pd.DataFrame(data)\n",
        "    # If not, handle other possible structures accordingly\n",
        "    # ... (For instance, convert dictionary to DataFrame)\n",
        "    else:\n",
        "        # Example: If data is a dictionary, convert values to a list\n",
        "        if isinstance(data, dict):\n",
        "            mcc_codes = pd.DataFrame([data])\n",
        "        else:\n",
        "            print(f\"Unexpected JSON structure: {type(data)}\")\n",
        "\n",
        "print(mcc_codes.head())"
      ]
    },
    {
      "cell_type": "code",
      "execution_count": 99,
      "metadata": {
        "colab": {
          "base_uri": "https://localhost:8080/",
          "height": 217
        },
        "id": "pOuiOGJqLBL3",
        "outputId": "58cc81bb-f0b2-40d8-ee84-2e09ab55dbe7"
      },
      "outputs": [
        {
          "output_type": "execute_result",
          "data": {
            "text/plain": [
              "                            5812              5541  \\\n",
              "0  Eating Places and Restaurants  Service Stations   \n",
              "\n",
              "                                   7996                          5411  \\\n",
              "0  Amusement Parks, Carnivals, Circuses  Grocery Stores, Supermarkets   \n",
              "\n",
              "                    4784                                        4900  \\\n",
              "0  Tolls and Bridge Fees  Utilities - Electric, Gas, Water, Sanitary   \n",
              "\n",
              "          5942                   5814            4829               5311  ...  \\\n",
              "0  Book Stores  Fast Food Restaurants  Money Transfer  Department Stores  ...   \n",
              "\n",
              "                              3005          4411        3000  \\\n",
              "0  Miscellaneous Metal Fabrication  Cruise Lines  Steelworks   \n",
              "\n",
              "                                      5533                     3008  \\\n",
              "0  Automotive Parts and Accessories Stores  Steel Drums and Barrels   \n",
              "\n",
              "              7549                   5941                        5722  \\\n",
              "0  Towing Services  Sporting Goods Stores  Household Appliance Stores   \n",
              "\n",
              "                                   3009                                5733  \n",
              "0  Fabricated Structural Metal Products  Music Stores - Musical Instruments  \n",
              "\n",
              "[1 rows x 109 columns]"
            ],
            "text/html": [
              "\n",
              "  <div id=\"df-7674c251-51af-41d8-9191-053e819d1019\" class=\"colab-df-container\">\n",
              "    <div>\n",
              "<style scoped>\n",
              "    .dataframe tbody tr th:only-of-type {\n",
              "        vertical-align: middle;\n",
              "    }\n",
              "\n",
              "    .dataframe tbody tr th {\n",
              "        vertical-align: top;\n",
              "    }\n",
              "\n",
              "    .dataframe thead th {\n",
              "        text-align: right;\n",
              "    }\n",
              "</style>\n",
              "<table border=\"1\" class=\"dataframe\">\n",
              "  <thead>\n",
              "    <tr style=\"text-align: right;\">\n",
              "      <th></th>\n",
              "      <th>5812</th>\n",
              "      <th>5541</th>\n",
              "      <th>7996</th>\n",
              "      <th>5411</th>\n",
              "      <th>4784</th>\n",
              "      <th>4900</th>\n",
              "      <th>5942</th>\n",
              "      <th>5814</th>\n",
              "      <th>4829</th>\n",
              "      <th>5311</th>\n",
              "      <th>...</th>\n",
              "      <th>3005</th>\n",
              "      <th>4411</th>\n",
              "      <th>3000</th>\n",
              "      <th>5533</th>\n",
              "      <th>3008</th>\n",
              "      <th>7549</th>\n",
              "      <th>5941</th>\n",
              "      <th>5722</th>\n",
              "      <th>3009</th>\n",
              "      <th>5733</th>\n",
              "    </tr>\n",
              "  </thead>\n",
              "  <tbody>\n",
              "    <tr>\n",
              "      <th>0</th>\n",
              "      <td>Eating Places and Restaurants</td>\n",
              "      <td>Service Stations</td>\n",
              "      <td>Amusement Parks, Carnivals, Circuses</td>\n",
              "      <td>Grocery Stores, Supermarkets</td>\n",
              "      <td>Tolls and Bridge Fees</td>\n",
              "      <td>Utilities - Electric, Gas, Water, Sanitary</td>\n",
              "      <td>Book Stores</td>\n",
              "      <td>Fast Food Restaurants</td>\n",
              "      <td>Money Transfer</td>\n",
              "      <td>Department Stores</td>\n",
              "      <td>...</td>\n",
              "      <td>Miscellaneous Metal Fabrication</td>\n",
              "      <td>Cruise Lines</td>\n",
              "      <td>Steelworks</td>\n",
              "      <td>Automotive Parts and Accessories Stores</td>\n",
              "      <td>Steel Drums and Barrels</td>\n",
              "      <td>Towing Services</td>\n",
              "      <td>Sporting Goods Stores</td>\n",
              "      <td>Household Appliance Stores</td>\n",
              "      <td>Fabricated Structural Metal Products</td>\n",
              "      <td>Music Stores - Musical Instruments</td>\n",
              "    </tr>\n",
              "  </tbody>\n",
              "</table>\n",
              "<p>1 rows × 109 columns</p>\n",
              "</div>\n",
              "    <div class=\"colab-df-buttons\">\n",
              "\n",
              "  <div class=\"colab-df-container\">\n",
              "    <button class=\"colab-df-convert\" onclick=\"convertToInteractive('df-7674c251-51af-41d8-9191-053e819d1019')\"\n",
              "            title=\"Convert this dataframe to an interactive table.\"\n",
              "            style=\"display:none;\">\n",
              "\n",
              "  <svg xmlns=\"http://www.w3.org/2000/svg\" height=\"24px\" viewBox=\"0 -960 960 960\">\n",
              "    <path d=\"M120-120v-720h720v720H120Zm60-500h600v-160H180v160Zm220 220h160v-160H400v160Zm0 220h160v-160H400v160ZM180-400h160v-160H180v160Zm440 0h160v-160H620v160ZM180-180h160v-160H180v160Zm440 0h160v-160H620v160Z\"/>\n",
              "  </svg>\n",
              "    </button>\n",
              "\n",
              "  <style>\n",
              "    .colab-df-container {\n",
              "      display:flex;\n",
              "      gap: 12px;\n",
              "    }\n",
              "\n",
              "    .colab-df-convert {\n",
              "      background-color: #E8F0FE;\n",
              "      border: none;\n",
              "      border-radius: 50%;\n",
              "      cursor: pointer;\n",
              "      display: none;\n",
              "      fill: #1967D2;\n",
              "      height: 32px;\n",
              "      padding: 0 0 0 0;\n",
              "      width: 32px;\n",
              "    }\n",
              "\n",
              "    .colab-df-convert:hover {\n",
              "      background-color: #E2EBFA;\n",
              "      box-shadow: 0px 1px 2px rgba(60, 64, 67, 0.3), 0px 1px 3px 1px rgba(60, 64, 67, 0.15);\n",
              "      fill: #174EA6;\n",
              "    }\n",
              "\n",
              "    .colab-df-buttons div {\n",
              "      margin-bottom: 4px;\n",
              "    }\n",
              "\n",
              "    [theme=dark] .colab-df-convert {\n",
              "      background-color: #3B4455;\n",
              "      fill: #D2E3FC;\n",
              "    }\n",
              "\n",
              "    [theme=dark] .colab-df-convert:hover {\n",
              "      background-color: #434B5C;\n",
              "      box-shadow: 0px 1px 3px 1px rgba(0, 0, 0, 0.15);\n",
              "      filter: drop-shadow(0px 1px 2px rgba(0, 0, 0, 0.3));\n",
              "      fill: #FFFFFF;\n",
              "    }\n",
              "  </style>\n",
              "\n",
              "    <script>\n",
              "      const buttonEl =\n",
              "        document.querySelector('#df-7674c251-51af-41d8-9191-053e819d1019 button.colab-df-convert');\n",
              "      buttonEl.style.display =\n",
              "        google.colab.kernel.accessAllowed ? 'block' : 'none';\n",
              "\n",
              "      async function convertToInteractive(key) {\n",
              "        const element = document.querySelector('#df-7674c251-51af-41d8-9191-053e819d1019');\n",
              "        const dataTable =\n",
              "          await google.colab.kernel.invokeFunction('convertToInteractive',\n",
              "                                                    [key], {});\n",
              "        if (!dataTable) return;\n",
              "\n",
              "        const docLinkHtml = 'Like what you see? Visit the ' +\n",
              "          '<a target=\"_blank\" href=https://colab.research.google.com/notebooks/data_table.ipynb>data table notebook</a>'\n",
              "          + ' to learn more about interactive tables.';\n",
              "        element.innerHTML = '';\n",
              "        dataTable['output_type'] = 'display_data';\n",
              "        await google.colab.output.renderOutput(dataTable, element);\n",
              "        const docLink = document.createElement('div');\n",
              "        docLink.innerHTML = docLinkHtml;\n",
              "        element.appendChild(docLink);\n",
              "      }\n",
              "    </script>\n",
              "  </div>\n",
              "\n",
              "\n",
              "    </div>\n",
              "  </div>\n"
            ],
            "application/vnd.google.colaboratory.intrinsic+json": {
              "type": "dataframe",
              "variable_name": "mcc_codes"
            }
          },
          "metadata": {},
          "execution_count": 99
        }
      ],
      "source": [
        "mcc_codes.head()"
      ]
    },
    {
      "cell_type": "code",
      "execution_count": 100,
      "metadata": {
        "id": "OY-2Q8kIL4md"
      },
      "outputs": [],
      "source": [
        "mcc_codes = mcc_codes.transpose()"
      ]
    },
    {
      "cell_type": "code",
      "execution_count": 101,
      "metadata": {
        "colab": {
          "base_uri": "https://localhost:8080/",
          "height": 206
        },
        "id": "RADMaMCYMAWl",
        "outputId": "d85a4b2c-65d2-42e1-c65e-24db65c6c2b1"
      },
      "outputs": [
        {
          "output_type": "execute_result",
          "data": {
            "text/plain": [
              "                                         0\n",
              "5812         Eating Places and Restaurants\n",
              "5541                      Service Stations\n",
              "7996  Amusement Parks, Carnivals, Circuses\n",
              "5411          Grocery Stores, Supermarkets\n",
              "4784                 Tolls and Bridge Fees"
            ],
            "text/html": [
              "\n",
              "  <div id=\"df-c1794177-cb56-4eba-a20f-1554dcbc3c6a\" class=\"colab-df-container\">\n",
              "    <div>\n",
              "<style scoped>\n",
              "    .dataframe tbody tr th:only-of-type {\n",
              "        vertical-align: middle;\n",
              "    }\n",
              "\n",
              "    .dataframe tbody tr th {\n",
              "        vertical-align: top;\n",
              "    }\n",
              "\n",
              "    .dataframe thead th {\n",
              "        text-align: right;\n",
              "    }\n",
              "</style>\n",
              "<table border=\"1\" class=\"dataframe\">\n",
              "  <thead>\n",
              "    <tr style=\"text-align: right;\">\n",
              "      <th></th>\n",
              "      <th>0</th>\n",
              "    </tr>\n",
              "  </thead>\n",
              "  <tbody>\n",
              "    <tr>\n",
              "      <th>5812</th>\n",
              "      <td>Eating Places and Restaurants</td>\n",
              "    </tr>\n",
              "    <tr>\n",
              "      <th>5541</th>\n",
              "      <td>Service Stations</td>\n",
              "    </tr>\n",
              "    <tr>\n",
              "      <th>7996</th>\n",
              "      <td>Amusement Parks, Carnivals, Circuses</td>\n",
              "    </tr>\n",
              "    <tr>\n",
              "      <th>5411</th>\n",
              "      <td>Grocery Stores, Supermarkets</td>\n",
              "    </tr>\n",
              "    <tr>\n",
              "      <th>4784</th>\n",
              "      <td>Tolls and Bridge Fees</td>\n",
              "    </tr>\n",
              "  </tbody>\n",
              "</table>\n",
              "</div>\n",
              "    <div class=\"colab-df-buttons\">\n",
              "\n",
              "  <div class=\"colab-df-container\">\n",
              "    <button class=\"colab-df-convert\" onclick=\"convertToInteractive('df-c1794177-cb56-4eba-a20f-1554dcbc3c6a')\"\n",
              "            title=\"Convert this dataframe to an interactive table.\"\n",
              "            style=\"display:none;\">\n",
              "\n",
              "  <svg xmlns=\"http://www.w3.org/2000/svg\" height=\"24px\" viewBox=\"0 -960 960 960\">\n",
              "    <path d=\"M120-120v-720h720v720H120Zm60-500h600v-160H180v160Zm220 220h160v-160H400v160Zm0 220h160v-160H400v160ZM180-400h160v-160H180v160Zm440 0h160v-160H620v160ZM180-180h160v-160H180v160Zm440 0h160v-160H620v160Z\"/>\n",
              "  </svg>\n",
              "    </button>\n",
              "\n",
              "  <style>\n",
              "    .colab-df-container {\n",
              "      display:flex;\n",
              "      gap: 12px;\n",
              "    }\n",
              "\n",
              "    .colab-df-convert {\n",
              "      background-color: #E8F0FE;\n",
              "      border: none;\n",
              "      border-radius: 50%;\n",
              "      cursor: pointer;\n",
              "      display: none;\n",
              "      fill: #1967D2;\n",
              "      height: 32px;\n",
              "      padding: 0 0 0 0;\n",
              "      width: 32px;\n",
              "    }\n",
              "\n",
              "    .colab-df-convert:hover {\n",
              "      background-color: #E2EBFA;\n",
              "      box-shadow: 0px 1px 2px rgba(60, 64, 67, 0.3), 0px 1px 3px 1px rgba(60, 64, 67, 0.15);\n",
              "      fill: #174EA6;\n",
              "    }\n",
              "\n",
              "    .colab-df-buttons div {\n",
              "      margin-bottom: 4px;\n",
              "    }\n",
              "\n",
              "    [theme=dark] .colab-df-convert {\n",
              "      background-color: #3B4455;\n",
              "      fill: #D2E3FC;\n",
              "    }\n",
              "\n",
              "    [theme=dark] .colab-df-convert:hover {\n",
              "      background-color: #434B5C;\n",
              "      box-shadow: 0px 1px 3px 1px rgba(0, 0, 0, 0.15);\n",
              "      filter: drop-shadow(0px 1px 2px rgba(0, 0, 0, 0.3));\n",
              "      fill: #FFFFFF;\n",
              "    }\n",
              "  </style>\n",
              "\n",
              "    <script>\n",
              "      const buttonEl =\n",
              "        document.querySelector('#df-c1794177-cb56-4eba-a20f-1554dcbc3c6a button.colab-df-convert');\n",
              "      buttonEl.style.display =\n",
              "        google.colab.kernel.accessAllowed ? 'block' : 'none';\n",
              "\n",
              "      async function convertToInteractive(key) {\n",
              "        const element = document.querySelector('#df-c1794177-cb56-4eba-a20f-1554dcbc3c6a');\n",
              "        const dataTable =\n",
              "          await google.colab.kernel.invokeFunction('convertToInteractive',\n",
              "                                                    [key], {});\n",
              "        if (!dataTable) return;\n",
              "\n",
              "        const docLinkHtml = 'Like what you see? Visit the ' +\n",
              "          '<a target=\"_blank\" href=https://colab.research.google.com/notebooks/data_table.ipynb>data table notebook</a>'\n",
              "          + ' to learn more about interactive tables.';\n",
              "        element.innerHTML = '';\n",
              "        dataTable['output_type'] = 'display_data';\n",
              "        await google.colab.output.renderOutput(dataTable, element);\n",
              "        const docLink = document.createElement('div');\n",
              "        docLink.innerHTML = docLinkHtml;\n",
              "        element.appendChild(docLink);\n",
              "      }\n",
              "    </script>\n",
              "  </div>\n",
              "\n",
              "\n",
              "<div id=\"df-3fe224a4-b76a-4996-bf61-34609ced8bcf\">\n",
              "  <button class=\"colab-df-quickchart\" onclick=\"quickchart('df-3fe224a4-b76a-4996-bf61-34609ced8bcf')\"\n",
              "            title=\"Suggest charts\"\n",
              "            style=\"display:none;\">\n",
              "\n",
              "<svg xmlns=\"http://www.w3.org/2000/svg\" height=\"24px\"viewBox=\"0 0 24 24\"\n",
              "     width=\"24px\">\n",
              "    <g>\n",
              "        <path d=\"M19 3H5c-1.1 0-2 .9-2 2v14c0 1.1.9 2 2 2h14c1.1 0 2-.9 2-2V5c0-1.1-.9-2-2-2zM9 17H7v-7h2v7zm4 0h-2V7h2v10zm4 0h-2v-4h2v4z\"/>\n",
              "    </g>\n",
              "</svg>\n",
              "  </button>\n",
              "\n",
              "<style>\n",
              "  .colab-df-quickchart {\n",
              "      --bg-color: #E8F0FE;\n",
              "      --fill-color: #1967D2;\n",
              "      --hover-bg-color: #E2EBFA;\n",
              "      --hover-fill-color: #174EA6;\n",
              "      --disabled-fill-color: #AAA;\n",
              "      --disabled-bg-color: #DDD;\n",
              "  }\n",
              "\n",
              "  [theme=dark] .colab-df-quickchart {\n",
              "      --bg-color: #3B4455;\n",
              "      --fill-color: #D2E3FC;\n",
              "      --hover-bg-color: #434B5C;\n",
              "      --hover-fill-color: #FFFFFF;\n",
              "      --disabled-bg-color: #3B4455;\n",
              "      --disabled-fill-color: #666;\n",
              "  }\n",
              "\n",
              "  .colab-df-quickchart {\n",
              "    background-color: var(--bg-color);\n",
              "    border: none;\n",
              "    border-radius: 50%;\n",
              "    cursor: pointer;\n",
              "    display: none;\n",
              "    fill: var(--fill-color);\n",
              "    height: 32px;\n",
              "    padding: 0;\n",
              "    width: 32px;\n",
              "  }\n",
              "\n",
              "  .colab-df-quickchart:hover {\n",
              "    background-color: var(--hover-bg-color);\n",
              "    box-shadow: 0 1px 2px rgba(60, 64, 67, 0.3), 0 1px 3px 1px rgba(60, 64, 67, 0.15);\n",
              "    fill: var(--button-hover-fill-color);\n",
              "  }\n",
              "\n",
              "  .colab-df-quickchart-complete:disabled,\n",
              "  .colab-df-quickchart-complete:disabled:hover {\n",
              "    background-color: var(--disabled-bg-color);\n",
              "    fill: var(--disabled-fill-color);\n",
              "    box-shadow: none;\n",
              "  }\n",
              "\n",
              "  .colab-df-spinner {\n",
              "    border: 2px solid var(--fill-color);\n",
              "    border-color: transparent;\n",
              "    border-bottom-color: var(--fill-color);\n",
              "    animation:\n",
              "      spin 1s steps(1) infinite;\n",
              "  }\n",
              "\n",
              "  @keyframes spin {\n",
              "    0% {\n",
              "      border-color: transparent;\n",
              "      border-bottom-color: var(--fill-color);\n",
              "      border-left-color: var(--fill-color);\n",
              "    }\n",
              "    20% {\n",
              "      border-color: transparent;\n",
              "      border-left-color: var(--fill-color);\n",
              "      border-top-color: var(--fill-color);\n",
              "    }\n",
              "    30% {\n",
              "      border-color: transparent;\n",
              "      border-left-color: var(--fill-color);\n",
              "      border-top-color: var(--fill-color);\n",
              "      border-right-color: var(--fill-color);\n",
              "    }\n",
              "    40% {\n",
              "      border-color: transparent;\n",
              "      border-right-color: var(--fill-color);\n",
              "      border-top-color: var(--fill-color);\n",
              "    }\n",
              "    60% {\n",
              "      border-color: transparent;\n",
              "      border-right-color: var(--fill-color);\n",
              "    }\n",
              "    80% {\n",
              "      border-color: transparent;\n",
              "      border-right-color: var(--fill-color);\n",
              "      border-bottom-color: var(--fill-color);\n",
              "    }\n",
              "    90% {\n",
              "      border-color: transparent;\n",
              "      border-bottom-color: var(--fill-color);\n",
              "    }\n",
              "  }\n",
              "</style>\n",
              "\n",
              "  <script>\n",
              "    async function quickchart(key) {\n",
              "      const quickchartButtonEl =\n",
              "        document.querySelector('#' + key + ' button');\n",
              "      quickchartButtonEl.disabled = true;  // To prevent multiple clicks.\n",
              "      quickchartButtonEl.classList.add('colab-df-spinner');\n",
              "      try {\n",
              "        const charts = await google.colab.kernel.invokeFunction(\n",
              "            'suggestCharts', [key], {});\n",
              "      } catch (error) {\n",
              "        console.error('Error during call to suggestCharts:', error);\n",
              "      }\n",
              "      quickchartButtonEl.classList.remove('colab-df-spinner');\n",
              "      quickchartButtonEl.classList.add('colab-df-quickchart-complete');\n",
              "    }\n",
              "    (() => {\n",
              "      let quickchartButtonEl =\n",
              "        document.querySelector('#df-3fe224a4-b76a-4996-bf61-34609ced8bcf button');\n",
              "      quickchartButtonEl.style.display =\n",
              "        google.colab.kernel.accessAllowed ? 'block' : 'none';\n",
              "    })();\n",
              "  </script>\n",
              "</div>\n",
              "\n",
              "    </div>\n",
              "  </div>\n"
            ],
            "application/vnd.google.colaboratory.intrinsic+json": {
              "type": "dataframe",
              "variable_name": "mcc_codes",
              "summary": "{\n  \"name\": \"mcc_codes\",\n  \"rows\": 109,\n  \"fields\": [\n    {\n      \"column\": 0,\n      \"properties\": {\n        \"dtype\": \"string\",\n        \"num_unique_values\": 108,\n        \"samples\": [\n          \"Podiatrists\",\n          \"Lumber and Building Materials\",\n          \"Tolls and Bridge Fees\"\n        ],\n        \"semantic_type\": \"\",\n        \"description\": \"\"\n      }\n    }\n  ]\n}"
            }
          },
          "metadata": {},
          "execution_count": 101
        }
      ],
      "source": [
        "mcc_codes.head()"
      ]
    },
    {
      "cell_type": "code",
      "execution_count": 102,
      "metadata": {
        "id": "7emwBFvWM1iI"
      },
      "outputs": [],
      "source": [
        "data = {\n",
        "    'mcc': mcc_codes.index,\n",
        "    'Name': mcc_codes.iloc[:, 0]\n",
        "}"
      ]
    },
    {
      "cell_type": "code",
      "execution_count": 103,
      "metadata": {
        "colab": {
          "base_uri": "https://localhost:8080/"
        },
        "id": "JdAALcJZNHL-",
        "outputId": "c4f50e7d-3812-4b0d-fa00-5a1cd62dfb78"
      },
      "outputs": [
        {
          "output_type": "stream",
          "name": "stdout",
          "text": [
            "       mcc                                  Name\n",
            "5812  5812         Eating Places and Restaurants\n",
            "5541  5541                      Service Stations\n",
            "7996  7996  Amusement Parks, Carnivals, Circuses\n",
            "5411  5411          Grocery Stores, Supermarkets\n",
            "4784  4784                 Tolls and Bridge Fees\n",
            "...    ...                                   ...\n",
            "7549  7549                       Towing Services\n",
            "5941  5941                 Sporting Goods Stores\n",
            "5722  5722            Household Appliance Stores\n",
            "3009  3009  Fabricated Structural Metal Products\n",
            "5733  5733    Music Stores - Musical Instruments\n",
            "\n",
            "[109 rows x 2 columns]\n"
          ]
        }
      ],
      "source": [
        "df = pd.DataFrame(data)\n",
        "\n",
        "print(df)"
      ]
    },
    {
      "cell_type": "code",
      "execution_count": 104,
      "metadata": {
        "colab": {
          "base_uri": "https://localhost:8080/"
        },
        "id": "EUfW4u9lN7IQ",
        "outputId": "b9a90891-86c5-4313-8ae5-732914fe7ea9"
      },
      "outputs": [
        {
          "output_type": "stream",
          "name": "stdout",
          "text": [
            "      mcc                                  Name\n",
            "0    5812         Eating Places and Restaurants\n",
            "1    5541                      Service Stations\n",
            "2    7996  Amusement Parks, Carnivals, Circuses\n",
            "3    5411          Grocery Stores, Supermarkets\n",
            "4    4784                 Tolls and Bridge Fees\n",
            "..    ...                                   ...\n",
            "104  7549                       Towing Services\n",
            "105  5941                 Sporting Goods Stores\n",
            "106  5722            Household Appliance Stores\n",
            "107  3009  Fabricated Structural Metal Products\n",
            "108  5733    Music Stores - Musical Instruments\n",
            "\n",
            "[109 rows x 2 columns]\n"
          ]
        }
      ],
      "source": [
        "# Reinitialize indexes\n",
        "mcc_codes = df.reset_index(drop=True)\n",
        "\n",
        "# show dataframe\n",
        "print(mcc_codes)"
      ]
    },
    {
      "cell_type": "code",
      "execution_count": 105,
      "metadata": {
        "id": "Y0HlxyzCrPJO"
      },
      "outputs": [],
      "source": [
        "# change mcc to int type\n",
        "mcc_codes['mcc']=pd.to_numeric(mcc_codes['mcc'])"
      ]
    },
    {
      "cell_type": "code",
      "execution_count": 106,
      "metadata": {
        "id": "-NwrUzQ5rb5Y"
      },
      "outputs": [],
      "source": [
        "train_fraud_labels['id']=pd.to_numeric(train_fraud_labels['id'])"
      ]
    },
    {
      "cell_type": "markdown",
      "metadata": {
        "id": "jTKUJ8wtpofk"
      },
      "source": [
        "edit cart data data"
      ]
    },
    {
      "cell_type": "code",
      "execution_count": 107,
      "metadata": {
        "colab": {
          "base_uri": "https://localhost:8080/"
        },
        "id": "av5glHYrpz1x",
        "outputId": "65291f18-6236-4e55-84a7-076925eda3df"
      },
      "outputs": [
        {
          "output_type": "stream",
          "name": "stdout",
          "text": [
            "Total Duplicated values found:  0\n",
            "Count of null values in each column are as follows: \n",
            " id                       0\n",
            "client_id                0\n",
            "card_brand               0\n",
            "card_type                0\n",
            "card_number              0\n",
            "expires                  0\n",
            "cvv                      0\n",
            "has_chip                 0\n",
            "num_cards_issued         0\n",
            "credit_limit             0\n",
            "acct_open_date           0\n",
            "year_pin_last_changed    0\n",
            "card_on_dark_web         0\n",
            "dtype: int64\n"
          ]
        }
      ],
      "source": [
        "# Checking for any duplicated or missing values\n",
        "print(\"Total Duplicated values found: \", cards.duplicated().sum())\n",
        "\n",
        "print(\"Count of null values in each column are as follows: \\n\", cards.isnull().sum())"
      ]
    },
    {
      "cell_type": "code",
      "source": [
        "cards=cards[['id','client_id','card_type']]"
      ],
      "metadata": {
        "id": "Gi_pejaSVsDe"
      },
      "execution_count": 108,
      "outputs": []
    },
    {
      "cell_type": "code",
      "execution_count": 109,
      "metadata": {
        "colab": {
          "base_uri": "https://localhost:8080/",
          "height": 143
        },
        "id": "fwszbOvhp7mf",
        "outputId": "12ee2360-d8b6-4144-b116-2bb47d6feccf"
      },
      "outputs": [
        {
          "output_type": "execute_result",
          "data": {
            "text/plain": [
              "  Column Name  Count of Unique values Assigned Datatype  Value\n",
              "0          id                    6146             int64   4524\n",
              "1   client_id                    2000             int64    825\n",
              "2   card_type                       3            object  Debit"
            ],
            "text/html": [
              "\n",
              "  <div id=\"df-839e7d22-20f6-4618-8e88-3855626e674e\" class=\"colab-df-container\">\n",
              "    <div>\n",
              "<style scoped>\n",
              "    .dataframe tbody tr th:only-of-type {\n",
              "        vertical-align: middle;\n",
              "    }\n",
              "\n",
              "    .dataframe tbody tr th {\n",
              "        vertical-align: top;\n",
              "    }\n",
              "\n",
              "    .dataframe thead th {\n",
              "        text-align: right;\n",
              "    }\n",
              "</style>\n",
              "<table border=\"1\" class=\"dataframe\">\n",
              "  <thead>\n",
              "    <tr style=\"text-align: right;\">\n",
              "      <th></th>\n",
              "      <th>Column Name</th>\n",
              "      <th>Count of Unique values</th>\n",
              "      <th>Assigned Datatype</th>\n",
              "      <th>Value</th>\n",
              "    </tr>\n",
              "  </thead>\n",
              "  <tbody>\n",
              "    <tr>\n",
              "      <th>0</th>\n",
              "      <td>id</td>\n",
              "      <td>6146</td>\n",
              "      <td>int64</td>\n",
              "      <td>4524</td>\n",
              "    </tr>\n",
              "    <tr>\n",
              "      <th>1</th>\n",
              "      <td>client_id</td>\n",
              "      <td>2000</td>\n",
              "      <td>int64</td>\n",
              "      <td>825</td>\n",
              "    </tr>\n",
              "    <tr>\n",
              "      <th>2</th>\n",
              "      <td>card_type</td>\n",
              "      <td>3</td>\n",
              "      <td>object</td>\n",
              "      <td>Debit</td>\n",
              "    </tr>\n",
              "  </tbody>\n",
              "</table>\n",
              "</div>\n",
              "    <div class=\"colab-df-buttons\">\n",
              "\n",
              "  <div class=\"colab-df-container\">\n",
              "    <button class=\"colab-df-convert\" onclick=\"convertToInteractive('df-839e7d22-20f6-4618-8e88-3855626e674e')\"\n",
              "            title=\"Convert this dataframe to an interactive table.\"\n",
              "            style=\"display:none;\">\n",
              "\n",
              "  <svg xmlns=\"http://www.w3.org/2000/svg\" height=\"24px\" viewBox=\"0 -960 960 960\">\n",
              "    <path d=\"M120-120v-720h720v720H120Zm60-500h600v-160H180v160Zm220 220h160v-160H400v160Zm0 220h160v-160H400v160ZM180-400h160v-160H180v160Zm440 0h160v-160H620v160ZM180-180h160v-160H180v160Zm440 0h160v-160H620v160Z\"/>\n",
              "  </svg>\n",
              "    </button>\n",
              "\n",
              "  <style>\n",
              "    .colab-df-container {\n",
              "      display:flex;\n",
              "      gap: 12px;\n",
              "    }\n",
              "\n",
              "    .colab-df-convert {\n",
              "      background-color: #E8F0FE;\n",
              "      border: none;\n",
              "      border-radius: 50%;\n",
              "      cursor: pointer;\n",
              "      display: none;\n",
              "      fill: #1967D2;\n",
              "      height: 32px;\n",
              "      padding: 0 0 0 0;\n",
              "      width: 32px;\n",
              "    }\n",
              "\n",
              "    .colab-df-convert:hover {\n",
              "      background-color: #E2EBFA;\n",
              "      box-shadow: 0px 1px 2px rgba(60, 64, 67, 0.3), 0px 1px 3px 1px rgba(60, 64, 67, 0.15);\n",
              "      fill: #174EA6;\n",
              "    }\n",
              "\n",
              "    .colab-df-buttons div {\n",
              "      margin-bottom: 4px;\n",
              "    }\n",
              "\n",
              "    [theme=dark] .colab-df-convert {\n",
              "      background-color: #3B4455;\n",
              "      fill: #D2E3FC;\n",
              "    }\n",
              "\n",
              "    [theme=dark] .colab-df-convert:hover {\n",
              "      background-color: #434B5C;\n",
              "      box-shadow: 0px 1px 3px 1px rgba(0, 0, 0, 0.15);\n",
              "      filter: drop-shadow(0px 1px 2px rgba(0, 0, 0, 0.3));\n",
              "      fill: #FFFFFF;\n",
              "    }\n",
              "  </style>\n",
              "\n",
              "    <script>\n",
              "      const buttonEl =\n",
              "        document.querySelector('#df-839e7d22-20f6-4618-8e88-3855626e674e button.colab-df-convert');\n",
              "      buttonEl.style.display =\n",
              "        google.colab.kernel.accessAllowed ? 'block' : 'none';\n",
              "\n",
              "      async function convertToInteractive(key) {\n",
              "        const element = document.querySelector('#df-839e7d22-20f6-4618-8e88-3855626e674e');\n",
              "        const dataTable =\n",
              "          await google.colab.kernel.invokeFunction('convertToInteractive',\n",
              "                                                    [key], {});\n",
              "        if (!dataTable) return;\n",
              "\n",
              "        const docLinkHtml = 'Like what you see? Visit the ' +\n",
              "          '<a target=\"_blank\" href=https://colab.research.google.com/notebooks/data_table.ipynb>data table notebook</a>'\n",
              "          + ' to learn more about interactive tables.';\n",
              "        element.innerHTML = '';\n",
              "        dataTable['output_type'] = 'display_data';\n",
              "        await google.colab.output.renderOutput(dataTable, element);\n",
              "        const docLink = document.createElement('div');\n",
              "        docLink.innerHTML = docLinkHtml;\n",
              "        element.appendChild(docLink);\n",
              "      }\n",
              "    </script>\n",
              "  </div>\n",
              "\n",
              "\n",
              "<div id=\"df-cb531400-198c-426b-adf5-df8a753850fb\">\n",
              "  <button class=\"colab-df-quickchart\" onclick=\"quickchart('df-cb531400-198c-426b-adf5-df8a753850fb')\"\n",
              "            title=\"Suggest charts\"\n",
              "            style=\"display:none;\">\n",
              "\n",
              "<svg xmlns=\"http://www.w3.org/2000/svg\" height=\"24px\"viewBox=\"0 0 24 24\"\n",
              "     width=\"24px\">\n",
              "    <g>\n",
              "        <path d=\"M19 3H5c-1.1 0-2 .9-2 2v14c0 1.1.9 2 2 2h14c1.1 0 2-.9 2-2V5c0-1.1-.9-2-2-2zM9 17H7v-7h2v7zm4 0h-2V7h2v10zm4 0h-2v-4h2v4z\"/>\n",
              "    </g>\n",
              "</svg>\n",
              "  </button>\n",
              "\n",
              "<style>\n",
              "  .colab-df-quickchart {\n",
              "      --bg-color: #E8F0FE;\n",
              "      --fill-color: #1967D2;\n",
              "      --hover-bg-color: #E2EBFA;\n",
              "      --hover-fill-color: #174EA6;\n",
              "      --disabled-fill-color: #AAA;\n",
              "      --disabled-bg-color: #DDD;\n",
              "  }\n",
              "\n",
              "  [theme=dark] .colab-df-quickchart {\n",
              "      --bg-color: #3B4455;\n",
              "      --fill-color: #D2E3FC;\n",
              "      --hover-bg-color: #434B5C;\n",
              "      --hover-fill-color: #FFFFFF;\n",
              "      --disabled-bg-color: #3B4455;\n",
              "      --disabled-fill-color: #666;\n",
              "  }\n",
              "\n",
              "  .colab-df-quickchart {\n",
              "    background-color: var(--bg-color);\n",
              "    border: none;\n",
              "    border-radius: 50%;\n",
              "    cursor: pointer;\n",
              "    display: none;\n",
              "    fill: var(--fill-color);\n",
              "    height: 32px;\n",
              "    padding: 0;\n",
              "    width: 32px;\n",
              "  }\n",
              "\n",
              "  .colab-df-quickchart:hover {\n",
              "    background-color: var(--hover-bg-color);\n",
              "    box-shadow: 0 1px 2px rgba(60, 64, 67, 0.3), 0 1px 3px 1px rgba(60, 64, 67, 0.15);\n",
              "    fill: var(--button-hover-fill-color);\n",
              "  }\n",
              "\n",
              "  .colab-df-quickchart-complete:disabled,\n",
              "  .colab-df-quickchart-complete:disabled:hover {\n",
              "    background-color: var(--disabled-bg-color);\n",
              "    fill: var(--disabled-fill-color);\n",
              "    box-shadow: none;\n",
              "  }\n",
              "\n",
              "  .colab-df-spinner {\n",
              "    border: 2px solid var(--fill-color);\n",
              "    border-color: transparent;\n",
              "    border-bottom-color: var(--fill-color);\n",
              "    animation:\n",
              "      spin 1s steps(1) infinite;\n",
              "  }\n",
              "\n",
              "  @keyframes spin {\n",
              "    0% {\n",
              "      border-color: transparent;\n",
              "      border-bottom-color: var(--fill-color);\n",
              "      border-left-color: var(--fill-color);\n",
              "    }\n",
              "    20% {\n",
              "      border-color: transparent;\n",
              "      border-left-color: var(--fill-color);\n",
              "      border-top-color: var(--fill-color);\n",
              "    }\n",
              "    30% {\n",
              "      border-color: transparent;\n",
              "      border-left-color: var(--fill-color);\n",
              "      border-top-color: var(--fill-color);\n",
              "      border-right-color: var(--fill-color);\n",
              "    }\n",
              "    40% {\n",
              "      border-color: transparent;\n",
              "      border-right-color: var(--fill-color);\n",
              "      border-top-color: var(--fill-color);\n",
              "    }\n",
              "    60% {\n",
              "      border-color: transparent;\n",
              "      border-right-color: var(--fill-color);\n",
              "    }\n",
              "    80% {\n",
              "      border-color: transparent;\n",
              "      border-right-color: var(--fill-color);\n",
              "      border-bottom-color: var(--fill-color);\n",
              "    }\n",
              "    90% {\n",
              "      border-color: transparent;\n",
              "      border-bottom-color: var(--fill-color);\n",
              "    }\n",
              "  }\n",
              "</style>\n",
              "\n",
              "  <script>\n",
              "    async function quickchart(key) {\n",
              "      const quickchartButtonEl =\n",
              "        document.querySelector('#' + key + ' button');\n",
              "      quickchartButtonEl.disabled = true;  // To prevent multiple clicks.\n",
              "      quickchartButtonEl.classList.add('colab-df-spinner');\n",
              "      try {\n",
              "        const charts = await google.colab.kernel.invokeFunction(\n",
              "            'suggestCharts', [key], {});\n",
              "      } catch (error) {\n",
              "        console.error('Error during call to suggestCharts:', error);\n",
              "      }\n",
              "      quickchartButtonEl.classList.remove('colab-df-spinner');\n",
              "      quickchartButtonEl.classList.add('colab-df-quickchart-complete');\n",
              "    }\n",
              "    (() => {\n",
              "      let quickchartButtonEl =\n",
              "        document.querySelector('#df-cb531400-198c-426b-adf5-df8a753850fb button');\n",
              "      quickchartButtonEl.style.display =\n",
              "        google.colab.kernel.accessAllowed ? 'block' : 'none';\n",
              "    })();\n",
              "  </script>\n",
              "</div>\n",
              "\n",
              "    </div>\n",
              "  </div>\n"
            ],
            "application/vnd.google.colaboratory.intrinsic+json": {
              "type": "dataframe",
              "summary": "{\n  \"name\": \"pd\",\n  \"rows\": 3,\n  \"fields\": [\n    {\n      \"column\": \"Column Name\",\n      \"properties\": {\n        \"dtype\": \"string\",\n        \"num_unique_values\": 3,\n        \"samples\": [\n          \"id\",\n          \"client_id\",\n          \"card_type\"\n        ],\n        \"semantic_type\": \"\",\n        \"description\": \"\"\n      }\n    },\n    {\n      \"column\": \"Count of Unique values\",\n      \"properties\": {\n        \"dtype\": \"number\",\n        \"std\": 3133,\n        \"min\": 3,\n        \"max\": 6146,\n        \"num_unique_values\": 3,\n        \"samples\": [\n          6146,\n          2000,\n          3\n        ],\n        \"semantic_type\": \"\",\n        \"description\": \"\"\n      }\n    },\n    {\n      \"column\": \"Assigned Datatype\",\n      \"properties\": {\n        \"dtype\": \"string\",\n        \"num_unique_values\": 2,\n        \"samples\": [\n          \"object\",\n          \"int64\"\n        ],\n        \"semantic_type\": \"\",\n        \"description\": \"\"\n      }\n    },\n    {\n      \"column\": \"Value\",\n      \"properties\": {\n        \"dtype\": \"string\",\n        \"num_unique_values\": 3,\n        \"samples\": [\n          \"4524\",\n          \"825\"\n        ],\n        \"semantic_type\": \"\",\n        \"description\": \"\"\n      }\n    }\n  ]\n}"
            }
          },
          "metadata": {},
          "execution_count": 109
        }
      ],
      "source": [
        "# Checking if correct datatypes are assigned to the columns\n",
        "\n",
        "nuuniq = []\n",
        "dtyp = []\n",
        "uuniq = []\n",
        "\n",
        "for col in cards.columns:\n",
        "    nuuniq.append(cards[col].nunique())\n",
        "    dtyp.append(cards[col].dtype)\n",
        "    uuniq.append(cards[col].unique()[0])\n",
        "\n",
        "pd.DataFrame({\"Column Name\": cards.columns, 'Count of Unique values': nuuniq, 'Assigned Datatype': dtyp, 'Value': uuniq})\n"
      ]
    },
    {
      "cell_type": "markdown",
      "metadata": {
        "id": "c10f1Rwfq7Vd"
      },
      "source": [
        "edit users data"
      ]
    },
    {
      "cell_type": "code",
      "source": [
        "users=users[['id','current_age','longitude','latitude','credit_score']]"
      ],
      "metadata": {
        "id": "u0B236BZWI1a"
      },
      "execution_count": 110,
      "outputs": []
    },
    {
      "cell_type": "code",
      "execution_count": 111,
      "metadata": {
        "colab": {
          "base_uri": "https://localhost:8080/",
          "height": 206
        },
        "id": "EfHOK5asq9th",
        "outputId": "dd1bcbd3-973e-442e-9863-94e6be799037"
      },
      "outputs": [
        {
          "output_type": "execute_result",
          "data": {
            "text/plain": [
              "    Column Name  Count of Unique values Assigned Datatype   Value\n",
              "0            id                    2000             int64  825.00\n",
              "1   current_age                      80             int64   53.00\n",
              "2     longitude                    1224           float64 -117.76\n",
              "3      latitude                     989           float64   34.15\n",
              "4  credit_score                     321             int64  787.00"
            ],
            "text/html": [
              "\n",
              "  <div id=\"df-9e905190-ebfe-4db7-8b82-984a54c4e50f\" class=\"colab-df-container\">\n",
              "    <div>\n",
              "<style scoped>\n",
              "    .dataframe tbody tr th:only-of-type {\n",
              "        vertical-align: middle;\n",
              "    }\n",
              "\n",
              "    .dataframe tbody tr th {\n",
              "        vertical-align: top;\n",
              "    }\n",
              "\n",
              "    .dataframe thead th {\n",
              "        text-align: right;\n",
              "    }\n",
              "</style>\n",
              "<table border=\"1\" class=\"dataframe\">\n",
              "  <thead>\n",
              "    <tr style=\"text-align: right;\">\n",
              "      <th></th>\n",
              "      <th>Column Name</th>\n",
              "      <th>Count of Unique values</th>\n",
              "      <th>Assigned Datatype</th>\n",
              "      <th>Value</th>\n",
              "    </tr>\n",
              "  </thead>\n",
              "  <tbody>\n",
              "    <tr>\n",
              "      <th>0</th>\n",
              "      <td>id</td>\n",
              "      <td>2000</td>\n",
              "      <td>int64</td>\n",
              "      <td>825.00</td>\n",
              "    </tr>\n",
              "    <tr>\n",
              "      <th>1</th>\n",
              "      <td>current_age</td>\n",
              "      <td>80</td>\n",
              "      <td>int64</td>\n",
              "      <td>53.00</td>\n",
              "    </tr>\n",
              "    <tr>\n",
              "      <th>2</th>\n",
              "      <td>longitude</td>\n",
              "      <td>1224</td>\n",
              "      <td>float64</td>\n",
              "      <td>-117.76</td>\n",
              "    </tr>\n",
              "    <tr>\n",
              "      <th>3</th>\n",
              "      <td>latitude</td>\n",
              "      <td>989</td>\n",
              "      <td>float64</td>\n",
              "      <td>34.15</td>\n",
              "    </tr>\n",
              "    <tr>\n",
              "      <th>4</th>\n",
              "      <td>credit_score</td>\n",
              "      <td>321</td>\n",
              "      <td>int64</td>\n",
              "      <td>787.00</td>\n",
              "    </tr>\n",
              "  </tbody>\n",
              "</table>\n",
              "</div>\n",
              "    <div class=\"colab-df-buttons\">\n",
              "\n",
              "  <div class=\"colab-df-container\">\n",
              "    <button class=\"colab-df-convert\" onclick=\"convertToInteractive('df-9e905190-ebfe-4db7-8b82-984a54c4e50f')\"\n",
              "            title=\"Convert this dataframe to an interactive table.\"\n",
              "            style=\"display:none;\">\n",
              "\n",
              "  <svg xmlns=\"http://www.w3.org/2000/svg\" height=\"24px\" viewBox=\"0 -960 960 960\">\n",
              "    <path d=\"M120-120v-720h720v720H120Zm60-500h600v-160H180v160Zm220 220h160v-160H400v160Zm0 220h160v-160H400v160ZM180-400h160v-160H180v160Zm440 0h160v-160H620v160ZM180-180h160v-160H180v160Zm440 0h160v-160H620v160Z\"/>\n",
              "  </svg>\n",
              "    </button>\n",
              "\n",
              "  <style>\n",
              "    .colab-df-container {\n",
              "      display:flex;\n",
              "      gap: 12px;\n",
              "    }\n",
              "\n",
              "    .colab-df-convert {\n",
              "      background-color: #E8F0FE;\n",
              "      border: none;\n",
              "      border-radius: 50%;\n",
              "      cursor: pointer;\n",
              "      display: none;\n",
              "      fill: #1967D2;\n",
              "      height: 32px;\n",
              "      padding: 0 0 0 0;\n",
              "      width: 32px;\n",
              "    }\n",
              "\n",
              "    .colab-df-convert:hover {\n",
              "      background-color: #E2EBFA;\n",
              "      box-shadow: 0px 1px 2px rgba(60, 64, 67, 0.3), 0px 1px 3px 1px rgba(60, 64, 67, 0.15);\n",
              "      fill: #174EA6;\n",
              "    }\n",
              "\n",
              "    .colab-df-buttons div {\n",
              "      margin-bottom: 4px;\n",
              "    }\n",
              "\n",
              "    [theme=dark] .colab-df-convert {\n",
              "      background-color: #3B4455;\n",
              "      fill: #D2E3FC;\n",
              "    }\n",
              "\n",
              "    [theme=dark] .colab-df-convert:hover {\n",
              "      background-color: #434B5C;\n",
              "      box-shadow: 0px 1px 3px 1px rgba(0, 0, 0, 0.15);\n",
              "      filter: drop-shadow(0px 1px 2px rgba(0, 0, 0, 0.3));\n",
              "      fill: #FFFFFF;\n",
              "    }\n",
              "  </style>\n",
              "\n",
              "    <script>\n",
              "      const buttonEl =\n",
              "        document.querySelector('#df-9e905190-ebfe-4db7-8b82-984a54c4e50f button.colab-df-convert');\n",
              "      buttonEl.style.display =\n",
              "        google.colab.kernel.accessAllowed ? 'block' : 'none';\n",
              "\n",
              "      async function convertToInteractive(key) {\n",
              "        const element = document.querySelector('#df-9e905190-ebfe-4db7-8b82-984a54c4e50f');\n",
              "        const dataTable =\n",
              "          await google.colab.kernel.invokeFunction('convertToInteractive',\n",
              "                                                    [key], {});\n",
              "        if (!dataTable) return;\n",
              "\n",
              "        const docLinkHtml = 'Like what you see? Visit the ' +\n",
              "          '<a target=\"_blank\" href=https://colab.research.google.com/notebooks/data_table.ipynb>data table notebook</a>'\n",
              "          + ' to learn more about interactive tables.';\n",
              "        element.innerHTML = '';\n",
              "        dataTable['output_type'] = 'display_data';\n",
              "        await google.colab.output.renderOutput(dataTable, element);\n",
              "        const docLink = document.createElement('div');\n",
              "        docLink.innerHTML = docLinkHtml;\n",
              "        element.appendChild(docLink);\n",
              "      }\n",
              "    </script>\n",
              "  </div>\n",
              "\n",
              "\n",
              "<div id=\"df-e477dfc1-e125-4f73-b5fd-2d1a4787837c\">\n",
              "  <button class=\"colab-df-quickchart\" onclick=\"quickchart('df-e477dfc1-e125-4f73-b5fd-2d1a4787837c')\"\n",
              "            title=\"Suggest charts\"\n",
              "            style=\"display:none;\">\n",
              "\n",
              "<svg xmlns=\"http://www.w3.org/2000/svg\" height=\"24px\"viewBox=\"0 0 24 24\"\n",
              "     width=\"24px\">\n",
              "    <g>\n",
              "        <path d=\"M19 3H5c-1.1 0-2 .9-2 2v14c0 1.1.9 2 2 2h14c1.1 0 2-.9 2-2V5c0-1.1-.9-2-2-2zM9 17H7v-7h2v7zm4 0h-2V7h2v10zm4 0h-2v-4h2v4z\"/>\n",
              "    </g>\n",
              "</svg>\n",
              "  </button>\n",
              "\n",
              "<style>\n",
              "  .colab-df-quickchart {\n",
              "      --bg-color: #E8F0FE;\n",
              "      --fill-color: #1967D2;\n",
              "      --hover-bg-color: #E2EBFA;\n",
              "      --hover-fill-color: #174EA6;\n",
              "      --disabled-fill-color: #AAA;\n",
              "      --disabled-bg-color: #DDD;\n",
              "  }\n",
              "\n",
              "  [theme=dark] .colab-df-quickchart {\n",
              "      --bg-color: #3B4455;\n",
              "      --fill-color: #D2E3FC;\n",
              "      --hover-bg-color: #434B5C;\n",
              "      --hover-fill-color: #FFFFFF;\n",
              "      --disabled-bg-color: #3B4455;\n",
              "      --disabled-fill-color: #666;\n",
              "  }\n",
              "\n",
              "  .colab-df-quickchart {\n",
              "    background-color: var(--bg-color);\n",
              "    border: none;\n",
              "    border-radius: 50%;\n",
              "    cursor: pointer;\n",
              "    display: none;\n",
              "    fill: var(--fill-color);\n",
              "    height: 32px;\n",
              "    padding: 0;\n",
              "    width: 32px;\n",
              "  }\n",
              "\n",
              "  .colab-df-quickchart:hover {\n",
              "    background-color: var(--hover-bg-color);\n",
              "    box-shadow: 0 1px 2px rgba(60, 64, 67, 0.3), 0 1px 3px 1px rgba(60, 64, 67, 0.15);\n",
              "    fill: var(--button-hover-fill-color);\n",
              "  }\n",
              "\n",
              "  .colab-df-quickchart-complete:disabled,\n",
              "  .colab-df-quickchart-complete:disabled:hover {\n",
              "    background-color: var(--disabled-bg-color);\n",
              "    fill: var(--disabled-fill-color);\n",
              "    box-shadow: none;\n",
              "  }\n",
              "\n",
              "  .colab-df-spinner {\n",
              "    border: 2px solid var(--fill-color);\n",
              "    border-color: transparent;\n",
              "    border-bottom-color: var(--fill-color);\n",
              "    animation:\n",
              "      spin 1s steps(1) infinite;\n",
              "  }\n",
              "\n",
              "  @keyframes spin {\n",
              "    0% {\n",
              "      border-color: transparent;\n",
              "      border-bottom-color: var(--fill-color);\n",
              "      border-left-color: var(--fill-color);\n",
              "    }\n",
              "    20% {\n",
              "      border-color: transparent;\n",
              "      border-left-color: var(--fill-color);\n",
              "      border-top-color: var(--fill-color);\n",
              "    }\n",
              "    30% {\n",
              "      border-color: transparent;\n",
              "      border-left-color: var(--fill-color);\n",
              "      border-top-color: var(--fill-color);\n",
              "      border-right-color: var(--fill-color);\n",
              "    }\n",
              "    40% {\n",
              "      border-color: transparent;\n",
              "      border-right-color: var(--fill-color);\n",
              "      border-top-color: var(--fill-color);\n",
              "    }\n",
              "    60% {\n",
              "      border-color: transparent;\n",
              "      border-right-color: var(--fill-color);\n",
              "    }\n",
              "    80% {\n",
              "      border-color: transparent;\n",
              "      border-right-color: var(--fill-color);\n",
              "      border-bottom-color: var(--fill-color);\n",
              "    }\n",
              "    90% {\n",
              "      border-color: transparent;\n",
              "      border-bottom-color: var(--fill-color);\n",
              "    }\n",
              "  }\n",
              "</style>\n",
              "\n",
              "  <script>\n",
              "    async function quickchart(key) {\n",
              "      const quickchartButtonEl =\n",
              "        document.querySelector('#' + key + ' button');\n",
              "      quickchartButtonEl.disabled = true;  // To prevent multiple clicks.\n",
              "      quickchartButtonEl.classList.add('colab-df-spinner');\n",
              "      try {\n",
              "        const charts = await google.colab.kernel.invokeFunction(\n",
              "            'suggestCharts', [key], {});\n",
              "      } catch (error) {\n",
              "        console.error('Error during call to suggestCharts:', error);\n",
              "      }\n",
              "      quickchartButtonEl.classList.remove('colab-df-spinner');\n",
              "      quickchartButtonEl.classList.add('colab-df-quickchart-complete');\n",
              "    }\n",
              "    (() => {\n",
              "      let quickchartButtonEl =\n",
              "        document.querySelector('#df-e477dfc1-e125-4f73-b5fd-2d1a4787837c button');\n",
              "      quickchartButtonEl.style.display =\n",
              "        google.colab.kernel.accessAllowed ? 'block' : 'none';\n",
              "    })();\n",
              "  </script>\n",
              "</div>\n",
              "\n",
              "    </div>\n",
              "  </div>\n"
            ],
            "application/vnd.google.colaboratory.intrinsic+json": {
              "type": "dataframe",
              "summary": "{\n  \"name\": \"pd\",\n  \"rows\": 5,\n  \"fields\": [\n    {\n      \"column\": \"Column Name\",\n      \"properties\": {\n        \"dtype\": \"string\",\n        \"num_unique_values\": 5,\n        \"samples\": [\n          \"current_age\",\n          \"credit_score\",\n          \"longitude\"\n        ],\n        \"semantic_type\": \"\",\n        \"description\": \"\"\n      }\n    },\n    {\n      \"column\": \"Count of Unique values\",\n      \"properties\": {\n        \"dtype\": \"number\",\n        \"std\": 762,\n        \"min\": 80,\n        \"max\": 2000,\n        \"num_unique_values\": 5,\n        \"samples\": [\n          80,\n          321,\n          1224\n        ],\n        \"semantic_type\": \"\",\n        \"description\": \"\"\n      }\n    },\n    {\n      \"column\": \"Assigned Datatype\",\n      \"properties\": {\n        \"dtype\": \"category\",\n        \"num_unique_values\": 2,\n        \"samples\": [\n          \"float64\",\n          \"int64\"\n        ],\n        \"semantic_type\": \"\",\n        \"description\": \"\"\n      }\n    },\n    {\n      \"column\": \"Value\",\n      \"properties\": {\n        \"dtype\": \"number\",\n        \"std\": 452.12768486346863,\n        \"min\": -117.76,\n        \"max\": 825.0,\n        \"num_unique_values\": 5,\n        \"samples\": [\n          53.0,\n          787.0\n        ],\n        \"semantic_type\": \"\",\n        \"description\": \"\"\n      }\n    }\n  ]\n}"
            }
          },
          "metadata": {},
          "execution_count": 111
        }
      ],
      "source": [
        "nuuniq = []\n",
        "dtyp = []\n",
        "uuniq = []\n",
        "\n",
        "for col in users.columns:\n",
        "    nuuniq.append(users[col].nunique())\n",
        "    dtyp.append(users[col].dtype)\n",
        "    uuniq.append(users[col].unique()[0])\n",
        "\n",
        "pd.DataFrame({\"Column Name\": users.columns, 'Count of Unique values': nuuniq, 'Assigned Datatype': dtyp, 'Value': uuniq})\n"
      ]
    },
    {
      "cell_type": "code",
      "execution_count": 112,
      "metadata": {
        "colab": {
          "base_uri": "https://localhost:8080/"
        },
        "id": "o2rIcfi8rRSG",
        "outputId": "063c31a5-7c3f-4a65-e40e-9f40da1e1026"
      },
      "outputs": [
        {
          "output_type": "stream",
          "name": "stdout",
          "text": [
            "<class 'pandas.core.frame.DataFrame'>\n",
            "RangeIndex: 2000 entries, 0 to 1999\n",
            "Data columns (total 5 columns):\n",
            " #   Column        Non-Null Count  Dtype  \n",
            "---  ------        --------------  -----  \n",
            " 0   id            2000 non-null   int64  \n",
            " 1   current_age   2000 non-null   int64  \n",
            " 2   longitude     2000 non-null   float64\n",
            " 3   latitude      2000 non-null   float64\n",
            " 4   credit_score  2000 non-null   int64  \n",
            "dtypes: float64(2), int64(3)\n",
            "memory usage: 78.3 KB\n"
          ]
        }
      ],
      "source": [
        "users.info()"
      ]
    },
    {
      "cell_type": "markdown",
      "metadata": {
        "id": "gSQ17XHks4x7"
      },
      "source": [
        "edit transactions data"
      ]
    },
    {
      "cell_type": "code",
      "source": [
        "transactions=transactions[['id','client_id','card_id','amount','mcc','use_chip']]"
      ],
      "metadata": {
        "id": "H0WBE1c4WiNa"
      },
      "execution_count": 113,
      "outputs": []
    },
    {
      "cell_type": "code",
      "execution_count": 114,
      "metadata": {
        "colab": {
          "base_uri": "https://localhost:8080/"
        },
        "id": "xfm0UBPKKUep",
        "outputId": "bc8d641e-1652-4cc2-a28e-6d30d9538d71"
      },
      "outputs": [
        {
          "output_type": "stream",
          "name": "stdout",
          "text": [
            "        id  client_id  card_id   amount   mcc           use_chip\n",
            "0  7475327       1556     2972  $-77.00  5499  Swipe Transaction\n",
            "1  7475328        561     4575   $14.57  5311  Swipe Transaction\n",
            "2  7475329       1129      102   $80.00  4829  Swipe Transaction\n",
            "3  7475331        430     2860  $200.00  4829  Swipe Transaction\n",
            "4  7475332        848     3915   $46.41  5813  Swipe Transaction\n"
          ]
        }
      ],
      "source": [
        "print(transactions.head())"
      ]
    },
    {
      "cell_type": "code",
      "execution_count": 115,
      "metadata": {
        "colab": {
          "base_uri": "https://localhost:8080/"
        },
        "id": "gTF6qdZHSGEH",
        "outputId": "a6babcce-6f5b-41a6-dc86-7180f49b5429"
      },
      "outputs": [
        {
          "output_type": "execute_result",
          "data": {
            "text/plain": [
              "(13305915, 6)"
            ]
          },
          "metadata": {},
          "execution_count": 115
        }
      ],
      "source": [
        "transactions.shape\n"
      ]
    },
    {
      "cell_type": "code",
      "execution_count": 116,
      "metadata": {
        "colab": {
          "base_uri": "https://localhost:8080/"
        },
        "id": "tnipCtfBSQL3",
        "outputId": "042ea93f-92eb-4850-9606-768f497bcc9c"
      },
      "outputs": [
        {
          "output_type": "execute_result",
          "data": {
            "text/plain": [
              "(8914963, 2)"
            ]
          },
          "metadata": {},
          "execution_count": 116
        }
      ],
      "source": [
        "train_fraud_labels.shape"
      ]
    },
    {
      "cell_type": "code",
      "source": [
        "train_fraud_labels.columns\n"
      ],
      "metadata": {
        "colab": {
          "base_uri": "https://localhost:8080/"
        },
        "id": "1rUfFRRxJxlh",
        "outputId": "e05ad284-fd9c-4de5-e282-839f6091629e"
      },
      "execution_count": 117,
      "outputs": [
        {
          "output_type": "execute_result",
          "data": {
            "text/plain": [
              "Index(['id', 'Status'], dtype='object')"
            ]
          },
          "metadata": {},
          "execution_count": 117
        }
      ]
    },
    {
      "cell_type": "code",
      "source": [
        "train_fraud_labels['Status'].unique()"
      ],
      "metadata": {
        "colab": {
          "base_uri": "https://localhost:8080/"
        },
        "id": "DgfVnW8JKlhK",
        "outputId": "dd76daea-a26c-465e-87e9-33928034b63a"
      },
      "execution_count": 118,
      "outputs": [
        {
          "output_type": "execute_result",
          "data": {
            "text/plain": [
              "array(['No', 'Yes'], dtype=object)"
            ]
          },
          "metadata": {},
          "execution_count": 118
        }
      ]
    },
    {
      "cell_type": "code",
      "source": [
        "fraudulent = train_fraud_labels[train_fraud_labels['Status'] =='Yes' ]\n",
        "non_fraudulent = train_fraud_labels[train_fraud_labels['Status'] == 'No']\n",
        "\n",
        "# under sampling non fraud transactions\n",
        "non_fraudulent_sample = non_fraudulent.sample(n=len(fraudulent), random_state=42)\n",
        "\n",
        "# combine the two datasets\n",
        "balanced_dataset = pd.concat([fraudulent, non_fraudulent_sample])\n",
        "\n",
        "# Mix data\n",
        "balanced_dataset = balanced_dataset.sample(frac=1, random_state=42).reset_index(drop=True)\n",
        "\n",
        "# show results\n",
        "print(balanced_dataset['Status'].value_counts())\n"
      ],
      "metadata": {
        "colab": {
          "base_uri": "https://localhost:8080/"
        },
        "id": "7sU9DtlxKc-e",
        "outputId": "d1b71c71-5384-467c-c876-d545f80fcc8c"
      },
      "execution_count": 119,
      "outputs": [
        {
          "output_type": "stream",
          "name": "stdout",
          "text": [
            "Status\n",
            "No     13332\n",
            "Yes    13332\n",
            "Name: count, dtype: int64\n"
          ]
        }
      ]
    },
    {
      "cell_type": "code",
      "execution_count": 120,
      "metadata": {
        "id": "Q6DOfWjns8of"
      },
      "outputs": [],
      "source": [
        "#merge transaction data with fraud data (df1)\n",
        "transaction_fraud=pd.merge(transactions,balanced_dataset,on='id',how='inner')"
      ]
    },
    {
      "cell_type": "code",
      "source": [
        "transaction_fraud.shape"
      ],
      "metadata": {
        "colab": {
          "base_uri": "https://localhost:8080/"
        },
        "id": "NCsg8J6YL9sP",
        "outputId": "dcb0f02a-0c9a-4ad0-a957-51e2defb4699"
      },
      "execution_count": 121,
      "outputs": [
        {
          "output_type": "execute_result",
          "data": {
            "text/plain": [
              "(26664, 7)"
            ]
          },
          "metadata": {},
          "execution_count": 121
        }
      ]
    },
    {
      "cell_type": "code",
      "source": [
        "# Extraxt randomly 5000 rows\n",
        "transaction_fraud1= transaction_fraud.sample(n=5000, random_state=42)\n",
        "\n",
        "\n",
        "# show results\n",
        "print(transaction_fraud1.head())"
      ],
      "metadata": {
        "colab": {
          "base_uri": "https://localhost:8080/"
        },
        "id": "3YgaOp3AMsR0",
        "outputId": "aa6ac55d-231a-4196-ba9b-5313891302bb"
      },
      "execution_count": 122,
      "outputs": [
        {
          "output_type": "stream",
          "name": "stdout",
          "text": [
            "             id  client_id  card_id   amount   mcc            use_chip Status\n",
            "20966  20523894        287     3527   $13.63  5310    Chip Transaction    Yes\n",
            "26365  23609637       1595     2429    $2.07  5812    Chip Transaction     No\n",
            "20166  19626992        605      212   $87.04  5311    Chip Transaction     No\n",
            "8763   13277328        240     2147  $108.58  5311  Online Transaction    Yes\n",
            "7335   12091881        468     4705   $38.52  4814   Swipe Transaction     No\n"
          ]
        }
      ]
    },
    {
      "cell_type": "code",
      "source": [
        "# show results\n",
        "print(transaction_fraud1['Status'].value_counts())"
      ],
      "metadata": {
        "colab": {
          "base_uri": "https://localhost:8080/"
        },
        "id": "m4pRQeDsMyOr",
        "outputId": "e5386438-0641-4efb-9e7b-59fc1abcbaa3"
      },
      "execution_count": 123,
      "outputs": [
        {
          "output_type": "stream",
          "name": "stdout",
          "text": [
            "Status\n",
            "No     2529\n",
            "Yes    2471\n",
            "Name: count, dtype: int64\n"
          ]
        }
      ]
    },
    {
      "cell_type": "code",
      "execution_count": 124,
      "metadata": {
        "id": "6CwCjxKUtvFv"
      },
      "outputs": [],
      "source": [
        "#merge transaction dataset with mcc dataset\n",
        "transaction_fraud_mcc=pd.merge(transaction_fraud1,mcc_codes,on='mcc',how='inner')"
      ]
    },
    {
      "cell_type": "code",
      "source": [
        "transaction_fraud_mcc.columns"
      ],
      "metadata": {
        "colab": {
          "base_uri": "https://localhost:8080/"
        },
        "id": "u4pCNKCerUQ9",
        "outputId": "4d12888a-7630-489d-844f-c82d55882fcf"
      },
      "execution_count": 125,
      "outputs": [
        {
          "output_type": "execute_result",
          "data": {
            "text/plain": [
              "Index(['id', 'client_id', 'card_id', 'amount', 'mcc', 'use_chip', 'Status',\n",
              "       'Name'],\n",
              "      dtype='object')"
            ]
          },
          "metadata": {},
          "execution_count": 125
        }
      ]
    },
    {
      "cell_type": "code",
      "execution_count": 126,
      "metadata": {
        "id": "kNDXGJzquA7K",
        "colab": {
          "base_uri": "https://localhost:8080/"
        },
        "outputId": "214cdda6-7e00-4c52-d50d-d1e69e60a20d"
      },
      "outputs": [
        {
          "output_type": "execute_result",
          "data": {
            "text/plain": [
              "(5000, 8)"
            ]
          },
          "metadata": {},
          "execution_count": 126
        }
      ],
      "source": [
        "transaction_fraud_mcc.shape"
      ]
    },
    {
      "cell_type": "code",
      "execution_count": 127,
      "metadata": {
        "id": "darhdOqVuaba",
        "colab": {
          "base_uri": "https://localhost:8080/"
        },
        "outputId": "0822c62b-a2f1-407d-dfe3-1f9769e490e0"
      },
      "outputs": [
        {
          "output_type": "stream",
          "name": "stdout",
          "text": [
            "<class 'pandas.core.frame.DataFrame'>\n",
            "RangeIndex: 5000 entries, 0 to 4999\n",
            "Data columns (total 8 columns):\n",
            " #   Column     Non-Null Count  Dtype \n",
            "---  ------     --------------  ----- \n",
            " 0   id         5000 non-null   int64 \n",
            " 1   client_id  5000 non-null   int64 \n",
            " 2   card_id    5000 non-null   int64 \n",
            " 3   amount     5000 non-null   object\n",
            " 4   mcc        5000 non-null   int64 \n",
            " 5   use_chip   5000 non-null   object\n",
            " 6   Status     5000 non-null   object\n",
            " 7   Name       5000 non-null   object\n",
            "dtypes: int64(4), object(4)\n",
            "memory usage: 312.6+ KB\n"
          ]
        }
      ],
      "source": [
        "transaction_fraud_mcc.info()"
      ]
    },
    {
      "cell_type": "code",
      "execution_count": 128,
      "metadata": {
        "id": "arwNdYEsuoaX"
      },
      "outputs": [],
      "source": [
        "# ci=onvert the amount column inti integer\n",
        "transaction_fraud_mcc['amount'] = transaction_fraud_mcc['amount'].str.replace('$', '')\n",
        "transaction_fraud_mcc['amount'] = pd.to_numeric(transaction_fraud_mcc['amount'])\n",
        "transaction_fraud_mcc.rename(columns = {'amount': 'Amount($)'}, inplace = True)"
      ]
    },
    {
      "cell_type": "code",
      "execution_count": 129,
      "metadata": {
        "id": "e2_tXDkDwP5H",
        "colab": {
          "base_uri": "https://localhost:8080/",
          "height": 335
        },
        "outputId": "af4f56f1-5e2b-46a0-c8a0-941d2897fa02"
      },
      "outputs": [
        {
          "output_type": "execute_result",
          "data": {
            "text/plain": [
              "id           0\n",
              "client_id    0\n",
              "card_id      0\n",
              "Amount($)    0\n",
              "mcc          0\n",
              "use_chip     0\n",
              "Status       0\n",
              "Name         0\n",
              "dtype: int64"
            ],
            "text/html": [
              "<div>\n",
              "<style scoped>\n",
              "    .dataframe tbody tr th:only-of-type {\n",
              "        vertical-align: middle;\n",
              "    }\n",
              "\n",
              "    .dataframe tbody tr th {\n",
              "        vertical-align: top;\n",
              "    }\n",
              "\n",
              "    .dataframe thead th {\n",
              "        text-align: right;\n",
              "    }\n",
              "</style>\n",
              "<table border=\"1\" class=\"dataframe\">\n",
              "  <thead>\n",
              "    <tr style=\"text-align: right;\">\n",
              "      <th></th>\n",
              "      <th>0</th>\n",
              "    </tr>\n",
              "  </thead>\n",
              "  <tbody>\n",
              "    <tr>\n",
              "      <th>id</th>\n",
              "      <td>0</td>\n",
              "    </tr>\n",
              "    <tr>\n",
              "      <th>client_id</th>\n",
              "      <td>0</td>\n",
              "    </tr>\n",
              "    <tr>\n",
              "      <th>card_id</th>\n",
              "      <td>0</td>\n",
              "    </tr>\n",
              "    <tr>\n",
              "      <th>Amount($)</th>\n",
              "      <td>0</td>\n",
              "    </tr>\n",
              "    <tr>\n",
              "      <th>mcc</th>\n",
              "      <td>0</td>\n",
              "    </tr>\n",
              "    <tr>\n",
              "      <th>use_chip</th>\n",
              "      <td>0</td>\n",
              "    </tr>\n",
              "    <tr>\n",
              "      <th>Status</th>\n",
              "      <td>0</td>\n",
              "    </tr>\n",
              "    <tr>\n",
              "      <th>Name</th>\n",
              "      <td>0</td>\n",
              "    </tr>\n",
              "  </tbody>\n",
              "</table>\n",
              "</div><br><label><b>dtype:</b> int64</label>"
            ]
          },
          "metadata": {},
          "execution_count": 129
        }
      ],
      "source": [
        "#show NAN values\n",
        "transaction_fraud_mcc.isnull().sum()"
      ]
    },
    {
      "cell_type": "markdown",
      "metadata": {
        "id": "K8-g9rGzc2n9"
      },
      "source": [
        "handling the invalid values in amount\n"
      ]
    },
    {
      "cell_type": "code",
      "execution_count": 130,
      "metadata": {
        "id": "e9OeCv9Nwbg6",
        "colab": {
          "base_uri": "https://localhost:8080/",
          "height": 458
        },
        "outputId": "1639c585-b744-4f53-ddf3-ad01f250513f"
      },
      "outputs": [
        {
          "output_type": "execute_result",
          "data": {
            "text/plain": [
              "4450    -496.00\n",
              "2700    -492.00\n",
              "2242    -488.00\n",
              "496     -487.00\n",
              "277     -479.00\n",
              "         ...   \n",
              "1609    1963.91\n",
              "1276    2126.53\n",
              "1571    2318.02\n",
              "3211    2447.88\n",
              "1394    2505.58\n",
              "Name: Amount($), Length: 5000, dtype: float64"
            ],
            "text/html": [
              "<div>\n",
              "<style scoped>\n",
              "    .dataframe tbody tr th:only-of-type {\n",
              "        vertical-align: middle;\n",
              "    }\n",
              "\n",
              "    .dataframe tbody tr th {\n",
              "        vertical-align: top;\n",
              "    }\n",
              "\n",
              "    .dataframe thead th {\n",
              "        text-align: right;\n",
              "    }\n",
              "</style>\n",
              "<table border=\"1\" class=\"dataframe\">\n",
              "  <thead>\n",
              "    <tr style=\"text-align: right;\">\n",
              "      <th></th>\n",
              "      <th>Amount($)</th>\n",
              "    </tr>\n",
              "  </thead>\n",
              "  <tbody>\n",
              "    <tr>\n",
              "      <th>4450</th>\n",
              "      <td>-496.00</td>\n",
              "    </tr>\n",
              "    <tr>\n",
              "      <th>2700</th>\n",
              "      <td>-492.00</td>\n",
              "    </tr>\n",
              "    <tr>\n",
              "      <th>2242</th>\n",
              "      <td>-488.00</td>\n",
              "    </tr>\n",
              "    <tr>\n",
              "      <th>496</th>\n",
              "      <td>-487.00</td>\n",
              "    </tr>\n",
              "    <tr>\n",
              "      <th>277</th>\n",
              "      <td>-479.00</td>\n",
              "    </tr>\n",
              "    <tr>\n",
              "      <th>...</th>\n",
              "      <td>...</td>\n",
              "    </tr>\n",
              "    <tr>\n",
              "      <th>1609</th>\n",
              "      <td>1963.91</td>\n",
              "    </tr>\n",
              "    <tr>\n",
              "      <th>1276</th>\n",
              "      <td>2126.53</td>\n",
              "    </tr>\n",
              "    <tr>\n",
              "      <th>1571</th>\n",
              "      <td>2318.02</td>\n",
              "    </tr>\n",
              "    <tr>\n",
              "      <th>3211</th>\n",
              "      <td>2447.88</td>\n",
              "    </tr>\n",
              "    <tr>\n",
              "      <th>1394</th>\n",
              "      <td>2505.58</td>\n",
              "    </tr>\n",
              "  </tbody>\n",
              "</table>\n",
              "<p>5000 rows × 1 columns</p>\n",
              "</div><br><label><b>dtype:</b> float64</label>"
            ]
          },
          "metadata": {},
          "execution_count": 130
        }
      ],
      "source": [
        "#handling the invalid value in amount\n",
        "amt = transaction_fraud_mcc['Amount($)'].sort_values(ascending = True)\n",
        "amt\n"
      ]
    },
    {
      "cell_type": "code",
      "execution_count": 131,
      "metadata": {
        "id": "j0KLzo5EdFrF"
      },
      "outputs": [],
      "source": [
        "#create the payment type of transactions (credit or debit)\n",
        "\n",
        "amount = transaction_fraud_mcc['Amount($)']\n",
        "payment_status = []\n",
        "\n",
        "for val in amount:\n",
        "    if val < 0:\n",
        "        payment_status.append('Debit')\n",
        "    else:\n",
        "        payment_status.append('Credit')\n",
        "\n",
        "transaction_fraud_mcc['Payment_Type'] = payment_status"
      ]
    },
    {
      "cell_type": "code",
      "execution_count": 132,
      "metadata": {
        "id": "wLgOiU6Vd4JA",
        "colab": {
          "base_uri": "https://localhost:8080/"
        },
        "outputId": "b8c1aa38-a7a5-49fb-f582-d4384e60dc07"
      },
      "outputs": [
        {
          "output_type": "execute_result",
          "data": {
            "text/plain": [
              "Index(['id', 'client_id', 'card_id', 'Amount($)', 'mcc', 'use_chip', 'Status',\n",
              "       'Name', 'Payment_Type'],\n",
              "      dtype='object')"
            ]
          },
          "metadata": {},
          "execution_count": 132
        }
      ],
      "source": [
        "transaction_fraud_mcc.columns"
      ]
    },
    {
      "cell_type": "code",
      "execution_count": 133,
      "metadata": {
        "id": "q83F6eyTfPXL",
        "colab": {
          "base_uri": "https://localhost:8080/",
          "height": 178
        },
        "outputId": "37f1a128-c658-402f-ad18-a06364c0851d"
      },
      "outputs": [
        {
          "output_type": "execute_result",
          "data": {
            "text/plain": [
              "Status\n",
              "No     50.58\n",
              "Yes    49.42\n",
              "Name: proportion, dtype: float64"
            ],
            "text/html": [
              "<div>\n",
              "<style scoped>\n",
              "    .dataframe tbody tr th:only-of-type {\n",
              "        vertical-align: middle;\n",
              "    }\n",
              "\n",
              "    .dataframe tbody tr th {\n",
              "        vertical-align: top;\n",
              "    }\n",
              "\n",
              "    .dataframe thead th {\n",
              "        text-align: right;\n",
              "    }\n",
              "</style>\n",
              "<table border=\"1\" class=\"dataframe\">\n",
              "  <thead>\n",
              "    <tr style=\"text-align: right;\">\n",
              "      <th></th>\n",
              "      <th>proportion</th>\n",
              "    </tr>\n",
              "    <tr>\n",
              "      <th>Status</th>\n",
              "      <th></th>\n",
              "    </tr>\n",
              "  </thead>\n",
              "  <tbody>\n",
              "    <tr>\n",
              "      <th>No</th>\n",
              "      <td>50.58</td>\n",
              "    </tr>\n",
              "    <tr>\n",
              "      <th>Yes</th>\n",
              "      <td>49.42</td>\n",
              "    </tr>\n",
              "  </tbody>\n",
              "</table>\n",
              "</div><br><label><b>dtype:</b> float64</label>"
            ]
          },
          "metadata": {},
          "execution_count": 133
        }
      ],
      "source": [
        "per = transaction_fraud_mcc['Status'].value_counts(normalize = True)*100\n",
        "per"
      ]
    },
    {
      "cell_type": "markdown",
      "source": [
        "# visualiser le data"
      ],
      "metadata": {
        "id": "GuNn4efjGGhA"
      }
    },
    {
      "cell_type": "code",
      "execution_count": 134,
      "metadata": {
        "id": "TG9PtB4_e0Vn",
        "colab": {
          "base_uri": "https://localhost:8080/",
          "height": 565
        },
        "outputId": "6d6e9198-8740-477d-99f3-fb714b16a9b1"
      },
      "outputs": [
        {
          "output_type": "stream",
          "name": "stderr",
          "text": [
            "<ipython-input-134-792006638892>:1: FutureWarning: Series.__getitem__ treating keys as positions is deprecated. In a future version, integer keys will always be treated as labels (consistent with DataFrame behavior). To access a value by position, use `ser.iloc[pos]`\n",
            "  legit = per[0]\n",
            "<ipython-input-134-792006638892>:2: FutureWarning: Series.__getitem__ treating keys as positions is deprecated. In a future version, integer keys will always be treated as labels (consistent with DataFrame behavior). To access a value by position, use `ser.iloc[pos]`\n",
            "  fraud = per[1]\n"
          ]
        },
        {
          "output_type": "display_data",
          "data": {
            "text/plain": [
              "<Figure size 640x480 with 1 Axes>"
            ],
            "image/png": "[encoded data removed]"
          },
          "metadata": {}
        }
      ],
      "source": [
        "\n",
        "\n",
        "legit = per[0]\n",
        "fraud = per[1]\n",
        "\n",
        "percentages = [legit, fraud]\n",
        "labels = ['Legitimate', 'Fraud']\n",
        "\n",
        "# Bar chart\n",
        "plt.bar(labels, percentages, color = ['#1e8449', '#cb4335'])\n",
        "plt.title('Percentage of Transactions by Fraud Status')\n",
        "plt.xlabel('Transaction type')\n",
        "plt.ylabel('Percentage')\n",
        "for i, v in enumerate(percentages):\n",
        "  plt.text(i, v + 1, str(round(v, 2)) + '%', ha='center')\n",
        "\n",
        "plt.show()"
      ]
    },
    {
      "cell_type": "code",
      "execution_count": 135,
      "metadata": {
        "id": "NUsKw3AZOwgQ"
      },
      "outputs": [],
      "source": [
        "# Rename the id columns to avoid conflicts\n",
        "transaction_fraud_mcc.rename(columns={'id': 'T_id'}, inplace=True)\n",
        "cards.rename(columns={'id': 'C_id'}, inplace=True)\n",
        "users.rename(columns={'id': 'CL_id'}, inplace=True)"
      ]
    },
    {
      "cell_type": "code",
      "execution_count": 136,
      "metadata": {
        "id": "AqdR1sxuRvNk",
        "colab": {
          "base_uri": "https://localhost:8080/"
        },
        "outputId": "e4bdbdfe-cac8-4d90-b827-17369f9d6373"
      },
      "outputs": [
        {
          "output_type": "stream",
          "name": "stdout",
          "text": [
            "Index(['C_id', 'client_id', 'card_type'], dtype='object')\n",
            "Index(['T_id', 'client_id', 'card_id', 'Amount($)', 'mcc', 'use_chip',\n",
            "       'Status', 'Name', 'Payment_Type'],\n",
            "      dtype='object')\n",
            "Index(['CL_id', 'current_age', 'longitude', 'latitude', 'credit_score'], dtype='object')\n"
          ]
        }
      ],
      "source": [
        "print(cards.columns)\n",
        "print(transaction_fraud_mcc.columns)\n",
        "print(users.columns)"
      ]
    },
    {
      "cell_type": "code",
      "execution_count": 137,
      "metadata": {
        "id": "5qletX9iaKvd"
      },
      "outputs": [],
      "source": [
        "# Join transactions with users using client_id column\n",
        "df_transactions_users = transaction_fraud_mcc.set_index('client_id').join(\n",
        "    users.set_index('CL_id'), how='inner', lsuffix='_transactions', rsuffix='_users')\n",
        "\n",
        "# Join them with cards using card_id column\n",
        "df_merged = df_transactions_users.set_index('card_id').join(\n",
        "    cards.set_index('C_id'), how='inner', lsuffix='_transactions_users', rsuffix='_cards')\n"
      ]
    },
    {
      "cell_type": "code",
      "execution_count": 138,
      "metadata": {
        "id": "ypkKNa6RTso3",
        "colab": {
          "base_uri": "https://localhost:8080/"
        },
        "outputId": "9917ff5a-1794-46ee-e0a1-abd994a622d4"
      },
      "outputs": [
        {
          "output_type": "stream",
          "name": "stdout",
          "text": [
            "Index(['T_id', 'Amount($)', 'mcc', 'use_chip', 'Status', 'Name',\n",
            "       'Payment_Type', 'current_age', 'longitude', 'latitude', 'credit_score',\n",
            "       'client_id', 'card_type'],\n",
            "      dtype='object')\n",
            "(5000, 13)\n"
          ]
        }
      ],
      "source": [
        "print(df_merged.columns)\n",
        "print(df_merged.shape)"
      ]
    },
    {
      "cell_type": "code",
      "execution_count": 139,
      "metadata": {
        "id": "fvC39x8cUQE6",
        "colab": {
          "base_uri": "https://localhost:8080/"
        },
        "outputId": "d93f4705-5fc3-43f4-8169-64cd9b592113"
      },
      "outputs": [
        {
          "output_type": "stream",
          "name": "stdout",
          "text": [
            "<class 'pandas.core.frame.DataFrame'>\n",
            "Index: 5000 entries, 3527 to 4948\n",
            "Data columns (total 13 columns):\n",
            " #   Column        Non-Null Count  Dtype  \n",
            "---  ------        --------------  -----  \n",
            " 0   T_id          5000 non-null   int64  \n",
            " 1   Amount($)     5000 non-null   float64\n",
            " 2   mcc           5000 non-null   int64  \n",
            " 3   use_chip      5000 non-null   object \n",
            " 4   Status        5000 non-null   object \n",
            " 5   Name          5000 non-null   object \n",
            " 6   Payment_Type  5000 non-null   object \n",
            " 7   current_age   5000 non-null   int64  \n",
            " 8   longitude     5000 non-null   float64\n",
            " 9   latitude      5000 non-null   float64\n",
            " 10  credit_score  5000 non-null   int64  \n",
            " 11  client_id     5000 non-null   int64  \n",
            " 12  card_type     5000 non-null   object \n",
            "dtypes: float64(3), int64(5), object(5)\n",
            "memory usage: 546.9+ KB\n",
            "None\n"
          ]
        }
      ],
      "source": [
        "print(df_merged.info())"
      ]
    },
    {
      "cell_type": "code",
      "execution_count": 140,
      "metadata": {
        "id": "vC5h8gQqUW1G",
        "colab": {
          "base_uri": "https://localhost:8080/"
        },
        "outputId": "f1496228-d0ce-405c-a5ff-1b03119f0c56"
      },
      "outputs": [
        {
          "output_type": "stream",
          "name": "stdout",
          "text": [
            "             T_id  Amount($)   mcc            use_chip Status  \\\n",
            "card_id                                                         \n",
            "3527     20523894      13.63  5310    Chip Transaction    Yes   \n",
            "2429     23609637       2.07  5812    Chip Transaction     No   \n",
            "212      19626992      87.04  5311    Chip Transaction     No   \n",
            "2147     13277328     108.58  5311  Online Transaction    Yes   \n",
            "4705     12091881      38.52  4814   Swipe Transaction     No   \n",
            "\n",
            "                                  Name Payment_Type  current_age  longitude  \\\n",
            "card_id                                                                       \n",
            "3527                   Discount Stores       Credit           42     -95.01   \n",
            "2429     Eating Places and Restaurants       Credit           47     -73.87   \n",
            "212                  Department Stores       Credit           42     -73.94   \n",
            "2147                 Department Stores       Credit           50     -83.29   \n",
            "4705        Telecommunication Services       Credit           48     -91.53   \n",
            "\n",
            "         latitude  credit_score  client_id card_type  \n",
            "card_id                                               \n",
            "3527        29.31           710        287     Debit  \n",
            "2429        40.84           753       1595     Debit  \n",
            "212         40.64           725        605    Credit  \n",
            "2147        36.21           745        240     Debit  \n",
            "4705        41.65           714        468    Credit  \n"
          ]
        }
      ],
      "source": [
        "print(df_merged.head())"
      ]
    },
    {
      "cell_type": "code",
      "execution_count": 141,
      "metadata": {
        "id": "iSY5nvg_m7RZ",
        "colab": {
          "base_uri": "https://localhost:8080/"
        },
        "outputId": "0cce7091-7561-4334-e470-80378342db8e"
      },
      "outputs": [
        {
          "output_type": "execute_result",
          "data": {
            "text/plain": [
              "Index(['T_id', 'Amount($)', 'mcc', 'use_chip', 'Status', 'Name',\n",
              "       'Payment_Type', 'current_age', 'longitude', 'latitude', 'credit_score',\n",
              "       'client_id', 'card_type'],\n",
              "      dtype='object')"
            ]
          },
          "metadata": {},
          "execution_count": 141
        }
      ],
      "source": [
        "df_merged.columns"
      ]
    },
    {
      "cell_type": "code",
      "execution_count": 142,
      "metadata": {
        "id": "Oj2RWp0CnofQ"
      },
      "outputs": [],
      "source": [
        "#index df_merged from 0 to len(df_merged)\n",
        "df_merged.reset_index(drop=True, inplace=True)"
      ]
    },
    {
      "cell_type": "code",
      "execution_count": 143,
      "metadata": {
        "id": "saCLub3Sz-QR",
        "colab": {
          "base_uri": "https://localhost:8080/"
        },
        "outputId": "188aa869-09db-4b60-de11-b020d1220801"
      },
      "outputs": [
        {
          "output_type": "stream",
          "name": "stdout",
          "text": [
            "[5310 5812 5311 4814 4121 5541 7230 4829 5499 4784 5045 5732 5815 7801\n",
            " 5300 5814 4131 7210 4411 5932 5912 5211 5411 5970 7922 5942 5712 5251\n",
            " 5651 5094 5813 5816 5941 3395 7349 9402 3393 5719 3640 7538 7996 3009\n",
            " 8011 5921 8021 4111 5533 4214 4511 3007 7995 7011 3730 4900 5192 3359\n",
            " 5977 5661 4722 3389 5193 6300 3066 4112 7832 3771 3260 7531 4899 3780\n",
            " 3390 3722 8099 3509 3006 3405 3387 3596 3684 3144 7802 3775 5655 8049\n",
            " 3000 1711 3504 3256 5947 3008 5621 8062 5733 7276 8041 7542 3174 3001\n",
            " 3075 3005 8043 8111 3058 7393 7549 3132 5261]\n"
          ]
        }
      ],
      "source": [
        "print(df_merged['mcc'].unique())"
      ]
    },
    {
      "cell_type": "code",
      "execution_count": 144,
      "metadata": {
        "id": "kEo83FzqcQzy",
        "colab": {
          "base_uri": "https://localhost:8080/"
        },
        "outputId": "3e408a80-17ac-4229-9362-8a071ef85bb6"
      },
      "outputs": [
        {
          "output_type": "execute_result",
          "data": {
            "text/plain": [
              "107"
            ]
          },
          "metadata": {},
          "execution_count": 144
        }
      ],
      "source": [
        "len(df_merged['mcc'].unique())"
      ]
    },
    {
      "cell_type": "code",
      "execution_count": 145,
      "metadata": {
        "id": "q6pxTKBlcoaL",
        "colab": {
          "base_uri": "https://localhost:8080/"
        },
        "outputId": "f318128c-6a41-4ba9-c919-5a4a42545bcf"
      },
      "outputs": [
        {
          "output_type": "execute_result",
          "data": {
            "text/plain": [
              "106"
            ]
          },
          "metadata": {},
          "execution_count": 145
        }
      ],
      "source": [
        "len(df_merged['Name'].unique())"
      ]
    },
    {
      "cell_type": "code",
      "execution_count": 146,
      "metadata": {
        "id": "a4lnKxKFpJ9r",
        "colab": {
          "base_uri": "https://localhost:8080/"
        },
        "outputId": "af2b575e-9845-49b1-e0a1-9c80416f074b"
      },
      "outputs": [
        {
          "output_type": "execute_result",
          "data": {
            "text/plain": [
              "array(['Yes', 'No'], dtype=object)"
            ]
          },
          "metadata": {},
          "execution_count": 146
        }
      ],
      "source": [
        "df_merged['Status'].unique()"
      ]
    },
    {
      "cell_type": "code",
      "execution_count": 147,
      "metadata": {
        "id": "jz3x9GDhUeXe"
      },
      "outputs": [],
      "source": [
        "df_merged['target']=np.where(df_merged['Status']=='Yes',1,0)"
      ]
    },
    {
      "cell_type": "code",
      "execution_count": 148,
      "metadata": {
        "id": "oVZrJvijpXEt"
      },
      "outputs": [],
      "source": [
        "df_merged=df_merged.drop('Status',axis=True)"
      ]
    },
    {
      "cell_type": "code",
      "execution_count": 149,
      "metadata": {
        "id": "kB-9-wwAUiMi",
        "colab": {
          "base_uri": "https://localhost:8080/"
        },
        "outputId": "e35d8842-0798-4b47-cd26-42e01bc89dc6"
      },
      "outputs": [
        {
          "output_type": "execute_result",
          "data": {
            "text/plain": [
              "(5000, 13)"
            ]
          },
          "metadata": {},
          "execution_count": 149
        }
      ],
      "source": [
        "df_merged.shape"
      ]
    },
    {
      "cell_type": "code",
      "source": [
        "df_merged.columns"
      ],
      "metadata": {
        "colab": {
          "base_uri": "https://localhost:8080/"
        },
        "id": "OD2QK73kuDrc",
        "outputId": "ed6c922c-97f2-4427-ecbd-c7e9bea88dbe"
      },
      "execution_count": 150,
      "outputs": [
        {
          "output_type": "execute_result",
          "data": {
            "text/plain": [
              "Index(['T_id', 'Amount($)', 'mcc', 'use_chip', 'Name', 'Payment_Type',\n",
              "       'current_age', 'longitude', 'latitude', 'credit_score', 'client_id',\n",
              "       'card_type', 'target'],\n",
              "      dtype='object')"
            ]
          },
          "metadata": {},
          "execution_count": 150
        }
      ]
    },
    {
      "cell_type": "code",
      "source": [
        "#drop the id columns\n",
        "df_merged = df_merged[['Amount($)', 'use_chip', 'card_type', 'mcc', 'current_age', 'credit_score', 'longitude','latitude','target']]\n"
      ],
      "metadata": {
        "id": "03DlIbG0t91P"
      },
      "execution_count": 151,
      "outputs": []
    },
    {
      "cell_type": "code",
      "source": [
        "print(df_merged.describe(include='all'))\n"
      ],
      "metadata": {
        "colab": {
          "base_uri": "https://localhost:8080/"
        },
        "id": "1M0CMUMzunM4",
        "outputId": "142e4d6f-904b-4e6d-ee0d-133ea15442bf"
      },
      "execution_count": 152,
      "outputs": [
        {
          "output_type": "stream",
          "name": "stdout",
          "text": [
            "          Amount($)            use_chip card_type          mcc  current_age  \\\n",
            "count   5000.000000                5000      5000  5000.000000  5000.000000   \n",
            "unique          NaN                   3         3          NaN          NaN   \n",
            "top             NaN  Online Transaction     Debit          NaN          NaN   \n",
            "freq            NaN                1917      2927          NaN          NaN   \n",
            "mean      74.993842                 NaN       NaN  5404.878600    54.623000   \n",
            "std      155.186480                 NaN       NaN   935.564713    15.629783   \n",
            "min     -496.000000                 NaN       NaN  1711.000000    23.000000   \n",
            "25%       10.547500                 NaN       NaN  5193.000000    43.000000   \n",
            "50%       43.020000                 NaN       NaN  5411.000000    52.000000   \n",
            "75%      100.000000                 NaN       NaN  5812.000000    64.000000   \n",
            "max     2505.580000                 NaN       NaN  9402.000000   101.000000   \n",
            "\n",
            "        credit_score    longitude     latitude       target  \n",
            "count    5000.000000  5000.000000  5000.000000  5000.000000  \n",
            "unique           NaN          NaN          NaN          NaN  \n",
            "top              NaN          NaN          NaN          NaN  \n",
            "freq             NaN          NaN          NaN          NaN  \n",
            "mean      713.895600   -92.029722    37.200708     0.494200  \n",
            "std        64.686716    16.438431     5.171475     0.500016  \n",
            "min       488.000000  -158.180000    21.300000     0.000000  \n",
            "25%       684.000000   -97.440000    33.770000     0.000000  \n",
            "50%       714.000000   -87.170000    37.990000     0.000000  \n",
            "75%       755.000000   -80.200000    41.090000     1.000000  \n",
            "max       850.000000   -68.670000    48.530000     1.000000  \n"
          ]
        }
      ]
    },
    {
      "cell_type": "code",
      "source": [
        "df_merged.info()"
      ],
      "metadata": {
        "colab": {
          "base_uri": "https://localhost:8080/"
        },
        "id": "0hlwlE-Eueak",
        "outputId": "ca2b654c-9823-4ebb-ccac-dac7dbff363e"
      },
      "execution_count": 153,
      "outputs": [
        {
          "output_type": "stream",
          "name": "stdout",
          "text": [
            "<class 'pandas.core.frame.DataFrame'>\n",
            "RangeIndex: 5000 entries, 0 to 4999\n",
            "Data columns (total 9 columns):\n",
            " #   Column        Non-Null Count  Dtype  \n",
            "---  ------        --------------  -----  \n",
            " 0   Amount($)     5000 non-null   float64\n",
            " 1   use_chip      5000 non-null   object \n",
            " 2   card_type     5000 non-null   object \n",
            " 3   mcc           5000 non-null   int64  \n",
            " 4   current_age   5000 non-null   int64  \n",
            " 5   credit_score  5000 non-null   int64  \n",
            " 6   longitude     5000 non-null   float64\n",
            " 7   latitude      5000 non-null   float64\n",
            " 8   target        5000 non-null   int64  \n",
            "dtypes: float64(3), int64(4), object(2)\n",
            "memory usage: 351.7+ KB\n"
          ]
        }
      ]
    },
    {
      "cell_type": "code",
      "source": [
        "print(df_merged.isnull().sum())\n"
      ],
      "metadata": {
        "colab": {
          "base_uri": "https://localhost:8080/"
        },
        "id": "fTt0tys4vOlr",
        "outputId": "13a7a65f-da90-4c65-81e3-13c4ca5113a0"
      },
      "execution_count": 154,
      "outputs": [
        {
          "output_type": "stream",
          "name": "stdout",
          "text": [
            "Amount($)       0\n",
            "use_chip        0\n",
            "card_type       0\n",
            "mcc             0\n",
            "current_age     0\n",
            "credit_score    0\n",
            "longitude       0\n",
            "latitude        0\n",
            "target          0\n",
            "dtype: int64\n"
          ]
        }
      ]
    },
    {
      "cell_type": "code",
      "source": [
        "# To get the unique values for each column, iterate through the columns:\n",
        "for col in df_merged.columns:\n",
        "    print(f\"Unique values for {col}: {df_merged[col].unique()}\")\n",
        "\n",
        "# Alternatively, to get the number of unique values for each column:\n",
        "print(df_merged.nunique())\n",
        "\n",
        "# Or, to see the unique combinations and their counts:\n",
        "print(df_merged.value_counts())"
      ],
      "metadata": {
        "colab": {
          "base_uri": "https://localhost:8080/"
        },
        "id": "7681-nXexQPn",
        "outputId": "3e9eff49-9279-42e9-c293-75bdc29d20ad"
      },
      "execution_count": 155,
      "outputs": [
        {
          "output_type": "stream",
          "name": "stdout",
          "text": [
            "Unique values for Amount($): [ 13.63   2.07  87.04 ... 147.85 113.59  91.18]\n",
            "Unique values for use_chip: ['Chip Transaction' 'Online Transaction' 'Swipe Transaction']\n",
            "Unique values for card_type: ['Debit' 'Credit' 'Debit (Prepaid)']\n",
            "Unique values for mcc: [5310 5812 5311 4814 4121 5541 7230 4829 5499 4784 5045 5732 5815 7801\n",
            " 5300 5814 4131 7210 4411 5932 5912 5211 5411 5970 7922 5942 5712 5251\n",
            " 5651 5094 5813 5816 5941 3395 7349 9402 3393 5719 3640 7538 7996 3009\n",
            " 8011 5921 8021 4111 5533 4214 4511 3007 7995 7011 3730 4900 5192 3359\n",
            " 5977 5661 4722 3389 5193 6300 3066 4112 7832 3771 3260 7531 4899 3780\n",
            " 3390 3722 8099 3509 3006 3405 3387 3596 3684 3144 7802 3775 5655 8049\n",
            " 3000 1711 3504 3256 5947 3008 5621 8062 5733 7276 8041 7542 3174 3001\n",
            " 3075 3005 8043 8111 3058 7393 7549 3132 5261]\n",
            "Unique values for current_age: [ 42  47  50  48  45  41  31  59  58  65  52  40  66  35  36  49  64  53\n",
            "  63  28  87  43  32  62  27  51  60  24  82 101  44  61  46  56  69  39\n",
            "  78  34  76  74  33  30  86  73  67  88  57  68  83  70  37  80  38  81\n",
            "  77  98  54  79  72  90  71  85  92  55  91  75  29  94  89  84  26  25\n",
            "  99  23]\n",
            "Unique values for credit_score: [710 753 725 745 714 709 850 684 784 741 738 689 815 799 681 685 719 713\n",
            " 787 694 717 686 723 664 711 688 760 735 824 729 790 840 814 651 687 628\n",
            " 846 761 756 749 676 791 778 699 695 698 621 773 712 737 736 655 716 646\n",
            " 674 798 660 779 752 724 763 679 693 690 562 733 708 803 691 675 706 632\n",
            " 726 836 783 707 825 657 739 767 811 747 721 732 769 645 770 704 613 583\n",
            " 682 701 673 730 751 650 663 771 581 702 683 821 788 728 610 526 594 614\n",
            " 590 743 759 758 644 750 703 593 692 772 834 671 531 696 810 668 746 755\n",
            " 775 826 765 800 768 543 786 740 520 700 835 661 602 757 616 672 680 669\n",
            " 638 625 782 578 641 624 793 731 596 806 774 576 618 670 705 748 742 820\n",
            " 734 727 796 608 550 630 764 631 654 643 639 722 794 540 718 789 766 777\n",
            " 619 776 816 801 648 762 720 797 715 812 600 656 623 829 498 607 785 606\n",
            " 491 659 633 612 622 792 802 652 831 605 598 595 662 697 635 503 609 804\n",
            " 575 841 637 527 552 781 847 591 566 667 805 636 842 666 839 589 822 828\n",
            " 827 658 849 744 542 505 813 530 558 513 489 809 573 509 807 547 615 586\n",
            " 488 642 808 536 795 629 508 500 582 574 823 678 830 524 627 601 634 665\n",
            " 617 653 597 501 584 506 588]\n",
            "Unique values for longitude: [ -95.01  -73.87  -73.94  -83.29  -91.53 -117.99  -78.65 -118.46  -95.38\n",
            "  -91.84  -97.33  -74.4   -86.99  -97.23  -83.99  -76.14  -82.59  -72.67\n",
            "  -74.76  -95.29 -117.76  -80.43  -86.01  -85.48  -98.11  -77.72  -87.73\n",
            "  -92.65  -82.98  -84.27 -118.2   -93.6   -73.73  -83.62 -106.43  -71.32\n",
            "  -71.74  -72.61  -87.98 -112.99  -82.64  -94.76  -97.17 -117.24  -98.31\n",
            "  -81.21  -77.48  -81.85  -74.62  -88.01  -80.2   -83.03  -87.86  -71.8\n",
            " -124.04 -122.03  -97.29  -73.96  -84.8   -90.4   -82.37 -111.32  -77.67\n",
            " -122.06  -93.27 -121.01  -70.33  -85.96  -80.35  -71.3   -75.75  -83.1\n",
            "  -76.3   -82.57 -116.98  -83.38 -118.39  -74.99  -87.68 -122.66  -81.37\n",
            "  -82.46  -74.22  -73.84  -97.64  -74.42  -95.91  -78.91  -90.35  -89.44\n",
            "  -77.96  -80.83  -89.3   -78.73  -83.43  -86.79  -92.97  -86.52  -94.35\n",
            "  -86.44 -121.99  -77.03  -75.16  -90.   -122.76  -73.92 -117.96 -120.62\n",
            "  -80.17  -73.59 -122.92 -111.96  -78.62 -117.89  -82.54  -83.36  -77.59\n",
            "  -76.93  -77.06  -94.87  -87.5   -88.04  -73.79  -76.88 -157.72 -122.31\n",
            " -118.15  -89.46  -77.21 -104.86 -121.93  -81.34  -95.24  -86.14  -89.06\n",
            "  -94.58  -72.19  -77.57 -122.58 -117.12  -83.05 -117.09  -73.99  -84.04\n",
            " -111.89 -122.16  -94.79  -93.26  -87.84  -74.8   -82.48 -114.96 -122.79\n",
            " -119.75  -80.75  -82.42 -122.26  -95.25  -93.74 -104.87 -104.42  -89.36\n",
            "  -97.01  -76.85  -90.2  -117.49  -78.55  -84.08  -91.12 -121.74  -89.75\n",
            "  -70.99 -106.62  -74.06  -81.84  -92.12  -81.27  -73.    -93.24  -84.67\n",
            "  -73.13  -75.32  -74.39  -73.85 -122.62 -122.55  -74.26  -88.39  -93.61\n",
            "  -80.6   -73.04  -72.98  -97.51  -82.99  -97.83  -73.89  -85.76  -88.34\n",
            "  -76.42  -98.43  -73.58 -117.28  -75.92  -83.61 -122.44  -80.16 -110.88\n",
            "  -71.66 -121.47  -78.74 -122.4  -121.8   -95.3   -96.89 -119.68  -77.27\n",
            "  -73.78  -83.27  -88.11 -111.06  -98.5  -124.16  -76.75  -75.23 -118.35\n",
            "  -71.12  -96.48  -84.54  -85.25  -79.54  -81.23  -71.97 -114.7   -81.03\n",
            " -117.03 -108.55  -79.04  -85.5  -119.71  -93.11  -97.74  -93.44  -85.35\n",
            "  -73.66  -94.68  -91.3  -123.28  -76.17  -84.57  -73.42  -96.65  -71.1\n",
            "  -82.12  -73.7   -78.89  -81.99  -73.55 -118.83  -77.13  -75.71  -80.66\n",
            " -118.41 -122.45  -73.63  -85.67  -81.15  -80.86  -83.19  -78.84  -80.1\n",
            " -113.76  -78.31 -118.44  -86.6   -87.35  -80.01  -82.88 -122.54  -81.97\n",
            "  -88.08  -90.97  -95.94  -93.17  -97.96 -116.43  -96.76  -71.16  -73.8\n",
            "  -87.61  -76.83  -78.93 -122.32  -94.81 -117.58 -121.24  -96.59  -99.73\n",
            "  -84.56  -82.33  -97.48  -87.34  -73.03  -78.85  -85.39  -97.34  -87.38\n",
            "  -81.32 -122.34  -83.01  -88.13  -71.41 -122.52  -82.94  -74.65  -85.7\n",
            "  -85.23  -87.17  -83.25  -82.49 -122.43 -121.28  -88.06 -113.6   -95.46\n",
            "  -96.16  -70.08  -77.26  -76.49 -118.24 -117.78  -97.18  -83.49  -80.93\n",
            "  -82.5   -74.61 -111.63  -81.51 -118.91  -89.5   -92.47  -92.08 -114.15\n",
            "  -73.4   -88.3   -89.07  -71.36  -86.47  -89.93  -78.87  -86.03  -85.77\n",
            "  -76.61  -77.5   -80.59 -121.87 -124.14 -122.01 -121.44  -77.4   -77.02\n",
            "  -77.46  -84.21  -84.16 -118.    -81.63  -87.63  -80.08  -80.13  -75.6\n",
            "  -80.39 -121.49 -116.83 -101.87  -78.27  -79.76  -76.6   -81.65 -121.72\n",
            "  -70.3   -81.05 -104.81  -86.28  -79.59 -118.29  -80.81 -106.55  -90.05\n",
            "  -79.75  -74.17 -119.49  -69.83 -104.76  -73.39  -77.07 -122.27  -86.93\n",
            "  -97.63 -119.39  -84.72  -93.2   -85.84  -71.22  -87.96 -157.85  -79.97\n",
            "  -77.71  -81.33 -158.01  -81.46  -83.82  -86.39  -97.07  -88.12 -111.87\n",
            "  -95.27 -121.82 -105.25  -97.1   -83.96  -83.97  -81.79  -93.4   -88.14\n",
            "  -73.75 -118.34  -96.03  -89.05 -105.09  -82.23 -119.79 -118.27 -120.84\n",
            "  -84.11  -94.73  -79.82  -77.24 -117.39  -72.    -83.71  -85.65 -122.8\n",
            "  -87.18 -119.67  -77.15  -88.36  -84.45  -85.6   -83.83  -82.1  -117.29\n",
            " -106.32  -78.63 -122.37  -97.59  -98.51  -87.28 -122.3   -88.78  -85.22\n",
            "  -93.62 -117.05  -83.48  -84.07  -81.08  -74.44 -119.72  -71.06  -94.16\n",
            "  -91.49  -85.87  -86.83  -78.83  -87.4   -82.18  -79.38  -96.6   -88.84\n",
            "  -76.55 -122.22  -96.68  -97.12  -74.21 -122.    -96.57 -121.6  -106.61\n",
            "  -74.02  -81.92 -117.46  -93.28  -95.02  -94.45  -81.41  -91.16  -77.1\n",
            "  -75.22  -83.63  -96.45 -106.15 -119.87  -81.6  -117.53 -115.28  -86.57\n",
            "  -76.72  -84.76  -90.7   -93.86  -84.42 -122.24  -86.61  -74.25  -97.22\n",
            "  -81.18 -104.9   -73.64  -88.    -84.46  -74.51  -80.94  -96.74 -117.67\n",
            "  -78.72  -81.58 -116.88  -70.7   -73.74 -114.3  -122.63  -75.26  -83.21\n",
            "  -89.48  -91.86  -84.37  -82.78 -121.3   -77.85  -88.98 -121.94  -75.36\n",
            " -121.25  -76.25  -74.59  -76.51  -74.18  -86.25  -79.46  -74.53  -97.39\n",
            "  -91.55  -83.46  -86.78 -117.62  -96.67  -97.67 -122.18  -82.84  -76.5\n",
            "  -96.66  -74.33  -92.35  -82.47  -80.12  -88.64  -83.17  -84.33  -89.81\n",
            " -108.68 -119.51  -83.89  -73.86  -89.94  -89.68  -82.91  -81.47  -95.37\n",
            "  -86.1   -86.84  -90.51  -73.21  -72.08  -83.09  -74.78  -73.72  -94.07\n",
            "  -84.47  -71.13  -82.36  -85.74  -83.73  -88.43  -80.68  -84.49  -81.28\n",
            " -157.79  -79.99  -75.61 -112.   -112.09  -90.24 -116.89  -86.15  -95.26\n",
            "  -81.2   -93.29  -94.69  -72.36 -122.69  -96.62  -93.47  -82.43 -111.38\n",
            "  -87.87 -122.04 -101.95  -84.22  -84.36 -115.21  -97.25  -73.51  -92.11\n",
            " -108.26 -116.46  -83.22  -80.21  -83.94 -117.93 -121.34 -122.81  -76.63\n",
            "  -78.45 -103.85  -90.36  -81.67  -86.51  -76.9   -90.59 -122.11  -80.71\n",
            "  -91.58  -81.    -87.82  -97.13  -88.05 -110.73  -87.05  -82.15  -96.13\n",
            "  -87.92  -84.95  -96.49  -78.67  -84.38  -87.01  -81.81  -85.34  -90.92\n",
            " -113.78 -118.21 -117.65  -71.33  -78.9   -91.57 -122.2   -95.82  -98.42\n",
            " -122.61  -87.54  -81.5   -97.77  -87.26  -76.54  -97.37  -92.66  -76.04\n",
            "  -77.8   -73.71  -97.44  -75.17  -95.78  -82.09 -110.82  -76.57  -74.47\n",
            "  -84.97  -89.78 -117.08  -77.12  -79.83  -83.88  -86.8   -84.31 -118.03\n",
            "  -86.86  -68.67  -74.03  -92.25  -96.37 -118.11  -88.63  -81.26  -94.28\n",
            " -111.05  -86.13  -90.96  -76.81  -74.19 -157.73  -93.1   -82.07 -118.14\n",
            "  -77.92  -82.96  -97.97  -71.45  -89.88  -81.91  -78.36  -91.66  -84.69\n",
            "  -74.48  -84.62 -120.45  -83.72 -122.38  -79.67 -117.97  -71.7  -117.38\n",
            "  -88.5   -87.75  -71.24  -83.28 -111.94  -88.55 -118.23  -88.33  -97.21\n",
            "  -76.34  -89.03  -81.3   -89.01  -82.19  -88.93 -115.03  -70.24 -111.85\n",
            "  -88.29 -121.62  -80.48  -80.24  -81.43 -117.79  -96.73  -83.79 -112.18\n",
            "  -73.35  -84.66  -78.    -80.56  -72.92 -108.57  -80.54  -82.56 -121.98\n",
            "  -91.72  -95.47  -89.38  -90.06  -87.59  -96.88  -81.93  -82.68 -117.63\n",
            "  -94.33 -117.85  -83.14 -158.18  -84.65 -118.13 -108.7  -100.76  -94.14\n",
            "  -75.43  -96.01  -92.32 -101.81  -74.85  -81.82  -77.65  -75.27  -79.4\n",
            " -117.95 -117.2   -76.77  -84.86  -80.05 -122.5   -71.21  -76.92  -84.13\n",
            "  -90.6   -97.3   -95.06  -73.2   -95.45  -95.95 -114.59 -117.45  -75.47\n",
            "  -75.74  -93.05 -112.33  -73.45  -76.26 -118.6   -80.61 -122.64  -75.46\n",
            "  -81.64  -89.7   -85.71  -74.98 -117.19  -89.54]\n",
            "Unique values for latitude: [29.31 40.84 40.64 36.21 41.65 33.94 35.82 34.14 29.76 45.4  32.75 40.85\n",
            " 33.43 33.   43.04 29.82 41.7  40.22 46.04 34.15 35.4  34.01 41.15 29.7\n",
            " 38.81 42.03 30.81 39.98 33.24 41.72 41.2  42.79 31.84 42.63 44.22 41.76\n",
            " 44.52 35.13 38.45 32.51 32.83 33.92 26.21 35.7  38.74 26.63 39.8  41.87\n",
            " 25.77 42.58 42.37 42.26 41.13 37.89 27.92 41.71 44.01 38.33 34.83 35.29\n",
            " 42.98 37.59 31.13 37.63 43.59 39.35 39.15 41.47 39.67 42.38 43.03 27.48\n",
            " 33.25 42.05 42.66 34.2  39.9  41.83 45.34 32.64 28.5  35.32 39.75 40.66\n",
            " 30.54 41.44 36.12 35.98 35.49 34.77 39.46 35.19 31.31 35.51 39.53 33.52\n",
            " 32.36 39.16 39.08 43.95 37.78 38.89 39.95 40.6  32.28 47.11 42.8  34.09\n",
            " 38.62 41.56 47.43 41.31 35.69 34.02 27.33 42.22 42.95 38.99 43.23 40.34\n",
            " 41.5  30.68 21.34 48.53 43.54 39.14 39.86 38.35 28.7  29.43 39.77 41.91\n",
            " 39.09 40.95 40.59 47.54 33.02 42.39 32.72 40.71 41.89 33.61 37.71 32.15\n",
            " 44.96 41.88 39.22 27.95 36.   42.33 36.6  28.37 40.58 47.39 38.96 41.63\n",
            " 39.76 40.15 32.69 39.61 32.32 33.93 36.5  39.64 40.8  40.94 35.15 42.41\n",
            " 35.11 40.26 34.06 29.97 28.78 44.4  44.67 34.05 41.3  40.32 40.77 40.74\n",
            " 48.28 38.22 40.69 44.26 41.57 40.28 40.82 35.46 38.87 30.51 37.35 40.7\n",
            " 38.31 44.27 30.79 34.18 40.65 33.27 39.87 37.76 26.02 32.21 41.68 41.01\n",
            " 42.76 47.13 37.3  42.67 32.98 34.43 38.78 40.68 30.84 42.34 31.5  29.45\n",
            " 43.48 43.1  33.97 42.91 31.02 39.33 35.06 34.8  32.29 44.41 28.2  43.01\n",
            " 34.   32.61 34.87 39.21 40.98 30.26 41.   38.9  29.69 39.12 39.51 40.55\n",
            " 41.18 33.2  40.04 33.69 41.09 35.43 39.84 27.98 34.25 47.26 40.63 30.17\n",
            " 35.71 32.23 35.05 35.72 47.3  26.37 35.44 35.24 34.28 36.29 35.95 41.42\n",
            " 42.92 38.02 26.18 27.9  30.3  36.73 44.65 29.57 43.65 32.79 42.31 41.02\n",
            " 32.59 40.14 39.27 42.71 47.83 38.88 37.73 32.76 32.45 39.39 29.67 25.92\n",
            " 36.18 41.55 42.88 40.19 37.68 39.47 35.73 37.92 41.12 41.82 45.63 42.46\n",
            " 40.35 41.19 41.36 30.36 35.81 27.19 41.69 38.76 45.82 38.83 37.18 42.78\n",
            " 38.63 39.04 33.89 31.56 33.74 42.47 32.9  33.46 40.96 40.46 39.74 35.54\n",
            " 38.71 40.87 41.92 42.83 42.36 37.74 39.96 38.73 34.31 40.05 39.52 33.95\n",
            " 39.3  37.37 37.44 43.37 37.91 38.53 40.23 37.55 31.22 33.9  42.12 35.1\n",
            " 26.23 43.98 27.64 38.51 33.57 31.49 43.06 34.93 38.86 30.33 39.01 36.95\n",
            " 29.19 39.69 32.35 40.93 33.79 41.23 35.31 29.91 40.56 40.72 37.23 44.44\n",
            " 40.67 37.99 39.02 26.13 36.52 38.05 30.21 34.49 42.35 21.3  40.43 39.92\n",
            " 21.31 36.42 37.96 26.14 33.68 47.91 41.52 33.38 29.55 36.46 40.02 32.42\n",
            " 33.29 42.06 44.92 41.97 33.77 36.36 30.06 33.12 39.99 41.4  36.83 33.96\n",
            " 37.53 34.42 36.07 38.7  44.53 42.96 45.49 30.44 36.75 35.3  35.78 38.04\n",
            " 44.75 34.29 41.37 36.97 39.17 33.18 45.47 37.56 33.73 47.79 38.61 42.02\n",
            " 32.63 42.3  33.99 34.4  33.11 41.8  36.28 35.83 37.94 40.31 39.38 37.83\n",
            " 38.21 42.56 40.09 47.94 33.41 32.27 41.45 34.08 29.56 38.47 28.3  44.37\n",
            " 32.92 31.65 36.16 30.75 39.32 43.69 43.   36.67 33.72 30.42 32.93 28.65\n",
            " 40.48 40.75 39.11 35.   33.45 43.6  33.64 40.89 32.84 33.84 42.09 41.05\n",
            " 34.61 38.1  40.27 36.74 39.5  47.32 38.44 40.79 37.42 40.62 36.15 40.76\n",
            " 37.07 41.32 43.22 33.55 35.18 42.15 27.8  41.86 41.29 36.17 34.07 47.67\n",
            " 43.45 33.1  34.72 26.74 40.12 32.19 36.61 45.6  38.55 34.39 33.83 34.51\n",
            " 44.78 40.52 45.87 42.77 35.92 36.05 34.86 41.9  34.66 21.39 40.2  41.03\n",
            " 33.44 36.33 42.27 44.21 28.32 34.24 33.36 21.41 26.45 38.64 33.62 33.63\n",
            " 37.72 29.99 37.04 36.26 45.79 32.91 37.02 38.41 47.65 47.75 32.73 33.85\n",
            " 41.28 37.54 45.64 46.78 35.22 32.78 47.09 34.12 35.97 33.78 38.48 36.7\n",
            " 35.64 44.66 35.57 47.2  38.42 29.71 37.34 35.12 29.1  41.77 37.69 39.03\n",
            " 36.01 41.54 42.13 35.14 33.82 38.37 34.47 35.79 34.04 33.98 43.3  38.06\n",
            " 41.48 29.79 40.39 34.6  33.23 36.49 41.53 37.43 35.01 37.67 33.87 43.11\n",
            " 43.42 32.96 29.5  39.59 44.45 32.22 43.31 34.76 38.98 40.33 38.95 34.78\n",
            " 42.62 40.83 32.33 40.47 39.45 45.99 39.29 21.4  44.94 42.99 35.33 40.01\n",
            " 30.65 33.76 40.49 40.1  38.14 47.68 42.24 36.34 33.81 41.95 34.1  35.58\n",
            " 41.84 41.27 34.13 33.91 42.86 41.85 32.86 42.23 42.48 28.92 39.72 42.68\n",
            " 36.56 39.85 36.14 44.08 44.35 38.66 35.66 33.53 42.19 41.16 40.92 45.76\n",
            " 40.   34.98 44.99 32.3  43.07 29.88 33.09 40.81 40.61 33.56 33.88 38.68\n",
            " 21.44 37.86 47.61 32.34 46.8  42.61 38.91 41.26 45.45 35.2  42.29 41.24\n",
            " 38.93 41.25 31.15 36.58 31.07 33.65 26.61 37.97 40.24 36.09 30.11 29.37\n",
            " 33.14 36.88 34.5  40.57 44.69 42.1  36.48 45.54 42.93 41.38 47.14 45.18\n",
            " 37.98 39.68 32.95 28.08]\n",
            "Unique values for target: [1 0]\n",
            "Amount($)       3989\n",
            "use_chip           3\n",
            "card_type          3\n",
            "mcc              107\n",
            "current_age       74\n",
            "credit_score     277\n",
            "longitude        825\n",
            "latitude         712\n",
            "target             2\n",
            "dtype: int64\n",
            "Amount($)  use_chip            card_type        mcc   current_age  credit_score  longitude  latitude  target\n",
            "20.00      Chip Transaction    Debit            4829  49           552           -82.18     41.44     0         2\n",
            "80.00      Swipe Transaction   Debit            4829  51           772           -117.49    33.93     0         2\n",
            "60.00      Swipe Transaction   Debit            4829  42           726           -96.59     32.76     0         2\n",
            "100.00     Chip Transaction    Credit           4829  36           850           -81.37     28.50     0         2\n",
            "76.20      Online Transaction  Debit (Prepaid)  5651  90           687           -119.68    34.43     1         1\n",
            "                                                                                                               ..\n",
            "18.41      Chip Transaction    Debit            7210  92           751           -71.12     42.91     0         1\n",
            "18.38      Chip Transaction    Debit            5300  29           750           -116.88    32.84     0         1\n",
            "18.36      Chip Transaction    Credit           5311  44           709           -83.22     34.12     0         1\n",
            "18.35      Swipe Transaction   Debit            4121  43           694           -82.37     34.83     0         1\n",
            "18.55      Chip Transaction    Debit            5719  49           683           -118.27    33.96     0         1\n",
            "Name: count, Length: 4996, dtype: int64\n"
          ]
        }
      ]
    },
    {
      "cell_type": "code",
      "source": [
        "#encoding the categorical variable for data_fraud\n",
        "cat_columns = df_merged.select_dtypes(include=['object', 'category']).columns\n",
        "\n",
        "\n",
        "data_fraud1 =pd.get_dummies(df_merged, columns=cat_columns, drop_first=False)\n",
        "data_fraud1=data_fraud1.astype(int)\n",
        "print(data_fraud1.head())"
      ],
      "metadata": {
        "colab": {
          "base_uri": "https://localhost:8080/"
        },
        "id": "ZDYFuK69x1Ic",
        "outputId": "44dc39e3-cfdc-4e9f-b616-a9d3edfc4849"
      },
      "execution_count": 156,
      "outputs": [
        {
          "output_type": "stream",
          "name": "stdout",
          "text": [
            "   Amount($)   mcc  current_age  credit_score  longitude  latitude  target  \\\n",
            "0         13  5310           42           710        -95        29       1   \n",
            "1          2  5812           47           753        -73        40       0   \n",
            "2         87  5311           42           725        -73        40       0   \n",
            "3        108  5311           50           745        -83        36       1   \n",
            "4         38  4814           48           714        -91        41       0   \n",
            "\n",
            "   use_chip_Chip Transaction  use_chip_Online Transaction  \\\n",
            "0                          1                            0   \n",
            "1                          1                            0   \n",
            "2                          1                            0   \n",
            "3                          0                            1   \n",
            "4                          0                            0   \n",
            "\n",
            "   use_chip_Swipe Transaction  card_type_Credit  card_type_Debit  \\\n",
            "0                           0                 0                1   \n",
            "1                           0                 0                1   \n",
            "2                           0                 1                0   \n",
            "3                           0                 0                1   \n",
            "4                           1                 1                0   \n",
            "\n",
            "   card_type_Debit (Prepaid)  \n",
            "0                          0  \n",
            "1                          0  \n",
            "2                          0  \n",
            "3                          0  \n",
            "4                          0  \n"
          ]
        }
      ]
    },
    {
      "cell_type": "code",
      "source": [
        "data_fraud1.shape"
      ],
      "metadata": {
        "colab": {
          "base_uri": "https://localhost:8080/"
        },
        "id": "byQwy-p8OaO_",
        "outputId": "c353fac8-d509-4620-be8d-ed723bc96af6"
      },
      "execution_count": 157,
      "outputs": [
        {
          "output_type": "execute_result",
          "data": {
            "text/plain": [
              "(5000, 13)"
            ]
          },
          "metadata": {},
          "execution_count": 157
        }
      ]
    },
    {
      "cell_type": "markdown",
      "source": [
        "XGboost"
      ],
      "metadata": {
        "id": "fqcbdLfuRWWa"
      }
    },
    {
      "cell_type": "code",
      "source": [
        "from sklearn.model_selection import train_test_split\n",
        "\n",
        "\n",
        "X = data_fraud1.drop('target', axis=1)\n",
        "y = data_fraud1['target']\n",
        "\n",
        "# split data int train and test data\n",
        "X_train, X_test, y_train, y_test = train_test_split(X, y, test_size=0.2, random_state=42)\n",
        "\n",
        "\n"
      ],
      "metadata": {
        "id": "k8gwMDgJptFb"
      },
      "execution_count": 158,
      "outputs": []
    },
    {
      "cell_type": "code",
      "source": [
        "import xgboost as xgb\n",
        "from sklearn.model_selection import train_test_split\n",
        "from sklearn.metrics import classification_report, confusion_matrix\n",
        "from sklearn.preprocessing import StandardScaler\n",
        "\n",
        "\n",
        "# Normalize data\n",
        "scaler = StandardScaler()\n",
        "X_train_scaled = scaler.fit_transform(X_train)\n",
        "X_test_scaled = scaler.transform(X_test)\n",
        "\n",
        "# Initialize the model\n",
        "model = xgb.XGBClassifier(\n",
        "    objective='binary:logistic',  # Classification binaire\n",
        "    eval_metric='logloss',        # Log loss comme métrique d'évaluation\n",
        "    use_label_encoder=False,      # Désactive le label encoder\n",
        "    random_state=42,              # Fixer la graine pour la reproductibilité\n",
        "    scale_pos_weight=1            # Poids pour les classes déséquilibrées\n",
        ")\n",
        "\n",
        "# training\n",
        "model.fit(X_train_scaled, y_train)\n",
        "\n",
        "# Predicting\n",
        "y_pred = model.predict(X_test_scaled)\n",
        "\n",
        "# evaluate performance\n",
        "print(\"Classification Report:\")\n",
        "print(classification_report(y_test, y_pred))\n",
        "\n",
        "# confusion matrix\n",
        "print(\"Confusion Matrix:\")\n",
        "print(confusion_matrix(y_test, y_pred))\n",
        "\n"
      ],
      "metadata": {
        "colab": {
          "base_uri": "https://localhost:8080/"
        },
        "id": "WUmBBiZiRWAa",
        "outputId": "fb86f475-ce80-430d-e9dd-4e278cf7195d"
      },
      "execution_count": 159,
      "outputs": [
        {
          "output_type": "stream",
          "name": "stderr",
          "text": [
            "/usr/local/lib/python3.11/dist-packages/xgboost/core.py:158: UserWarning: [08:47:14] WARNING: /workspace/src/learner.cc:740: \n",
            "Parameters: { \"use_label_encoder\" } are not used.\n",
            "\n",
            "  warnings.warn(smsg, UserWarning)\n"
          ]
        },
        {
          "output_type": "stream",
          "name": "stdout",
          "text": [
            "Classification Report:\n",
            "              precision    recall  f1-score   support\n",
            "\n",
            "           0       0.87      0.88      0.88       499\n",
            "           1       0.88      0.87      0.88       501\n",
            "\n",
            "    accuracy                           0.88      1000\n",
            "   macro avg       0.88      0.88      0.88      1000\n",
            "weighted avg       0.88      0.88      0.88      1000\n",
            "\n",
            "Confusion Matrix:\n",
            "[[441  58]\n",
            " [ 65 436]]\n"
          ]
        }
      ]
    },
    {
      "cell_type": "code",
      "source": [
        "# Predict if a transaction is fraudulent or not\n",
        "def predict_transaction(model, scaler, transaction_data):\n",
        "\n",
        "    # Normalize transaction data\n",
        "    transaction_data_scaled = scaler.transform([transaction_data])\n",
        "\n",
        "    # Prediction\n",
        "    prediction = model.predict(transaction_data_scaled)\n",
        "\n",
        "\n",
        "    return prediction[0]"
      ],
      "metadata": {
        "id": "NzMkuApdS_f_"
      },
      "execution_count": 160,
      "outputs": []
    },
    {
      "cell_type": "code",
      "source": [
        "# Example of transaction prediction\n",
        "# Replace values with your transaction data\n",
        "new_transaction = [500,1,0,0,0,0,1, 5310, 20, 700, -90, 29]  # Exemple de données pour 'Amount($)', 'use_chip', etc.\n",
        "\n",
        "#predict\n",
        "result = predict_transaction(model, scaler, new_transaction)\n",
        "\n",
        "# show result\n",
        "if result == 1:\n",
        "    print(\"Cette transaction est prédite comme FRAUDULEUSE.\")\n",
        "else:\n",
        "    print(\"Cette transaction est prédite comme NON FRAUDULEUSE.\")"
      ],
      "metadata": {
        "colab": {
          "base_uri": "https://localhost:8080/"
        },
        "id": "XhLLGNtCRxGJ",
        "outputId": "c500d253-e75b-4d52-e647-aae8d37b4da3"
      },
      "execution_count": 161,
      "outputs": [
        {
          "output_type": "stream",
          "name": "stdout",
          "text": [
            "Cette transaction est prédite comme FRAUDULEUSE.\n"
          ]
        },
        {
          "output_type": "stream",
          "name": "stderr",
          "text": [
            "/usr/local/lib/python3.11/dist-packages/sklearn/utils/validation.py:2739: UserWarning: X does not have valid feature names, but StandardScaler was fitted with feature names\n",
            "  warnings.warn(\n"
          ]
        }
      ]
    },
    {
      "cell_type": "code",
      "source": [
        "import joblib\n",
        "#save the model\n",
        "joblib.dump(model, \"model.pkl\")\n"
      ],
      "metadata": {
        "id": "sV6o4rZgT57K",
        "colab": {
          "base_uri": "https://localhost:8080/"
        },
        "outputId": "7fa73a2b-9bb4-4209-cef4-7eb7f7a069b6"
      },
      "execution_count": 162,
      "outputs": [
        {
          "output_type": "execute_result",
          "data": {
            "text/plain": [
              "['model.pkl']"
            ]
          },
          "metadata": {},
          "execution_count": 162
        }
      ]
    },
    {
      "cell_type": "code",
      "source": [
        "from google.colab import files\n",
        "#download the model\n",
        "files.download(\"model.pkl\")\n"
      ],
      "metadata": {
        "colab": {
          "base_uri": "https://localhost:8080/",
          "height": 17
        },
        "id": "WI3Ah6W5gC4P",
        "outputId": "b37dbe17-80a6-4144-e2ad-3fd5706c29d8"
      },
      "execution_count": 163,
      "outputs": [
        {
          "output_type": "display_data",
          "data": {
            "text/plain": [
              "<IPython.core.display.Javascript object>"
            ],
            "application/javascript": [
              "\n",
              "    async function download(id, filename, size) {\n",
              "      if (!google.colab.kernel.accessAllowed) {\n",
              "        return;\n",
              "      }\n",
              "      const div = document.createElement('div');\n",
              "      const label = document.createElement('label');\n",
              "      label.textContent = `Downloading \"${filename}\": `;\n",
              "      div.appendChild(label);\n",
              "      const progress = document.createElement('progress');\n",
              "      progress.max = size;\n",
              "      div.appendChild(progress);\n",
              "      document.body.appendChild(div);\n",
              "\n",
              "      const buffers = [];\n",
              "      let downloaded = 0;\n",
              "\n",
              "      const channel = await google.colab.kernel.comms.open(id);\n",
              "      // Send a message to notify the kernel that we're ready.\n",
              "      channel.send({})\n",
              "\n",
              "      for await (const message of channel.messages) {\n",
              "        // Send a message to notify the kernel that we're ready.\n",
              "        channel.send({})\n",
              "        if (message.buffers) {\n",
              "          for (const buffer of message.buffers) {\n",
              "            buffers.push(buffer);\n",
              "            downloaded += buffer.byteLength;\n",
              "            progress.value = downloaded;\n",
              "          }\n",
              "        }\n",
              "      }\n",
              "      const blob = new Blob(buffers, {type: 'application/binary'});\n",
              "      const a = document.createElement('a');\n",
              "      a.href = window.URL.createObjectURL(blob);\n",
              "      a.download = filename;\n",
              "      div.appendChild(a);\n",
              "      a.click();\n",
              "      div.remove();\n",
              "    }\n",
              "  "
            ]
          },
          "metadata": {}
        },
        {
          "output_type": "display_data",
          "data": {
            "text/plain": [
              "<IPython.core.display.Javascript object>"
            ],
            "application/javascript": [
              "download(\"download_3d6ebeca-94df-4d14-a9ee-68ff71b323c9\", \"model.pkl\", 292650)"
            ]
          },
          "metadata": {}
        }
      ]
    }
  ]
}